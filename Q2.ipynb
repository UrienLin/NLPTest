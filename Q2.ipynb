{
  "nbformat": 4,
  "nbformat_minor": 0,
  "metadata": {
    "colab": {
      "name": "Q2.ipynb",
      "provenance": [],
      "collapsed_sections": [],
      "mount_file_id": "13a76KNt_pM7Z4n5Qfa1QBfsW0t2yCWPA",
      "authorship_tag": "ABX9TyNMKCYE/annDf5ruqtJXtgy",
      "include_colab_link": true
    },
    "kernelspec": {
      "name": "python3",
      "display_name": "Python 3"
    },
    "accelerator": "GPU"
  },
  "cells": [
    {
      "cell_type": "markdown",
      "metadata": {
        "id": "view-in-github",
        "colab_type": "text"
      },
      "source": [
        "<a href=\"https://colab.research.google.com/github/UrienLin/NLPTest/blob/master/Q2.ipynb\" target=\"_parent\"><img src=\"https://colab.research.google.com/assets/colab-badge.svg\" alt=\"Open In Colab\"/></a>"
      ]
    },
    {
      "cell_type": "markdown",
      "metadata": {
        "id": "7_3FjM6ibhuy",
        "colab_type": "text"
      },
      "source": [
        "# Information Retrieval\n"
      ]
    },
    {
      "cell_type": "markdown",
      "metadata": {
        "id": "jzdf8D-KcKMZ",
        "colab_type": "text"
      },
      "source": [
        "# 新聞「立場」檢索\n",
        "> [根據本篇論文](https://www.aclweb.org/anthology/D19-3004.pdf)\n",
        "\n",
        "## **前處理** > 篩選出較相關 TopK 句子\n",
        "\n",
        "### 1.透過標點符號斷句<br>\n",
        "\n",
        "### 2.篩選出 相關性最高 TOP5的句子<br>\n",
        "> update:時間因素，改採Jieba TF_IDF TOP 5 有出現的句子<br>\n",
        "\n",
        "> Note:Relevant 跟 (Both Query & News 的 TF_IDF 詞交集)不明顯相關<br>\n",
        "\n",
        "### 3.標題作為Text_a ,篩選後句子合併為Text_b, label=Relevance\n",
        "\n",
        "## **模型訓練** > BERT 訓練 Query 跟 篩選句的相關\n",
        "\n",
        "### 1. BertForSequenceClassification\n",
        "> Format = [CLS] Query [SEP] 篩選句[SEP] <br>\n",
        "> Masked = [CLS] 00000 [SEP] 11111 [SEP]\n"
      ]
    },
    {
      "cell_type": "code",
      "metadata": {
        "id": "M_DLS5X0cMGq",
        "colab_type": "code",
        "outputId": "38a0fca7-f2d5-458b-d2c8-97b4989cafb7",
        "colab": {
          "base_uri": "https://localhost:8080/",
          "height": 54
        }
      },
      "source": [
        "!pip install jieba -q\n",
        "!pip install transformers -q\n",
        "from google.colab import drive\n",
        "drive.mount('/content/drive')\n",
        "\n",
        "import pandas as  pd\n",
        "import jieba.analyse"
      ],
      "execution_count": 1,
      "outputs": [
        {
          "output_type": "stream",
          "text": [
            "Drive already mounted at /content/drive; to attempt to forcibly remount, call drive.mount(\"/content/drive\", force_remount=True).\n"
          ],
          "name": "stdout"
        }
      ]
    },
    {
      "cell_type": "code",
      "metadata": {
        "id": "pESmZeWCXOgP",
        "colab_type": "code",
        "colab": {
          "base_uri": "https://localhost:8080/",
          "height": 204
        },
        "outputId": "81fafe1a-f0b9-4c83-d852-c3e35027e5b4"
      },
      "source": [
        "#Colab PATH\n",
        "#PATH = '/content/drive/My Drive/20190825 Challenge/'\n",
        "#Local PATH\n",
        "PATH = './'\n",
        "\n",
        "train_df = pd.read_csv(PATH + '02_Newstrain.csv')\n",
        "test_df = pd.read_csv(PATH + '02_Newstest.csv')\n",
        "_df = pd.concat([train_df,test_df])\n",
        "_df.head()\n"
      ],
      "execution_count": 2,
      "outputs": [
        {
          "output_type": "execute_result",
          "data": {
            "text/html": [
              "<div>\n",
              "<style scoped>\n",
              "    .dataframe tbody tr th:only-of-type {\n",
              "        vertical-align: middle;\n",
              "    }\n",
              "\n",
              "    .dataframe tbody tr th {\n",
              "        vertical-align: top;\n",
              "    }\n",
              "\n",
              "    .dataframe thead th {\n",
              "        text-align: right;\n",
              "    }\n",
              "</style>\n",
              "<table border=\"1\" class=\"dataframe\">\n",
              "  <thead>\n",
              "    <tr style=\"text-align: right;\">\n",
              "      <th></th>\n",
              "      <th>query</th>\n",
              "      <th>news</th>\n",
              "      <th>relevance</th>\n",
              "    </tr>\n",
              "  </thead>\n",
              "  <tbody>\n",
              "    <tr>\n",
              "      <th>0</th>\n",
              "      <td>支持陳前總統保外就醫</td>\n",
              "      <td>前總統陳水扁律師團今天說，法務部若依醫療鑑定小組認定，准扁保外就醫，重視醫療人權，在國際能見...</td>\n",
              "      <td>2.0</td>\n",
              "    </tr>\n",
              "    <tr>\n",
              "      <th>1</th>\n",
              "      <td>支持陳前總統保外就醫</td>\n",
              "      <td>2014.12.05，大家晚安！每天晚間為您彙整夜線最讚新聞，一起來看看今天的夜線最讚新聞有...</td>\n",
              "      <td>1.0</td>\n",
              "    </tr>\n",
              "    <tr>\n",
              "      <th>2</th>\n",
              "      <td>支持陳前總統保外就醫</td>\n",
              "      <td>針對法務部昨（8）日指若前總統陳水扁近半年病情確有變化，可再次提出保外就醫聲請，民主進步黨發...</td>\n",
              "      <td>3.0</td>\n",
              "    </tr>\n",
              "    <tr>\n",
              "      <th>3</th>\n",
              "      <td>支持陳前總統保外就醫</td>\n",
              "      <td>前總統陳水扁申請重回民進黨，因爭議過大，受理的台北市黨部昨日以「逕送中央」方式，表達拒審態度...</td>\n",
              "      <td>1.0</td>\n",
              "    </tr>\n",
              "    <tr>\n",
              "      <th>4</th>\n",
              "      <td>支持陳前總統保外就醫</td>\n",
              "      <td>高雄市政府今天舉行升旗典禮，市長陳菊呼籲，法務部矯正署盡速完成應做的行政程序，讓前總統陳水扁...</td>\n",
              "      <td>3.0</td>\n",
              "    </tr>\n",
              "  </tbody>\n",
              "</table>\n",
              "</div>"
            ],
            "text/plain": [
              "        query                                               news  relevance\n",
              "0  支持陳前總統保外就醫  前總統陳水扁律師團今天說，法務部若依醫療鑑定小組認定，准扁保外就醫，重視醫療人權，在國際能見...        2.0\n",
              "1  支持陳前總統保外就醫  2014.12.05，大家晚安！每天晚間為您彙整夜線最讚新聞，一起來看看今天的夜線最讚新聞有...        1.0\n",
              "2  支持陳前總統保外就醫  針對法務部昨（8）日指若前總統陳水扁近半年病情確有變化，可再次提出保外就醫聲請，民主進步黨發...        3.0\n",
              "3  支持陳前總統保外就醫  前總統陳水扁申請重回民進黨，因爭議過大，受理的台北市黨部昨日以「逕送中央」方式，表達拒審態度...        1.0\n",
              "4  支持陳前總統保外就醫  高雄市政府今天舉行升旗典禮，市長陳菊呼籲，法務部矯正署盡速完成應做的行政程序，讓前總統陳水扁...        3.0"
            ]
          },
          "metadata": {
            "tags": []
          },
          "execution_count": 2
        }
      ]
    },
    {
      "cell_type": "code",
      "metadata": {
        "id": "QQrqhvPEWGvA",
        "colab_type": "code",
        "outputId": "320398a5-b54c-4755-cdd7-24dcb02ce4bb",
        "colab": {
          "base_uri": "https://localhost:8080/",
          "height": 85
        }
      },
      "source": [
        "_df['extract'] = _df.news.apply(lambda x: jieba.analyse.extract_tags(x,topK=10))\n",
        "_df['top5']= _df.extract.apply(lambda x: x[:5])"
      ],
      "execution_count": 3,
      "outputs": [
        {
          "output_type": "stream",
          "text": [
            "Building prefix dict from the default dictionary ...\n",
            "Loading model from cache /tmp/jieba.cache\n",
            "Loading model cost 0.641 seconds.\n",
            "Prefix dict has been built successfully.\n"
          ],
          "name": "stderr"
        }
      ]
    },
    {
      "cell_type": "code",
      "metadata": {
        "id": "ByYN3PD9tRUf",
        "colab_type": "code",
        "colab": {
          "base_uri": "https://localhost:8080/",
          "height": 282
        },
        "outputId": "348dce6e-486f-4116-b0d8-9838924c9adc"
      },
      "source": [
        "def extract_list_contains(cell):\n",
        "   list_sentence = []\n",
        "   for sub_str in cell[-5]:\n",
        "    list_sentence += [x for x in cell[:-5] if sub_str in x ]\n",
        "   return list(set(list_sentence))\n",
        "\n",
        "_df.news = _df.news.apply(lambda x:x.replace(\",\", \"，\"))\n",
        "_df.news = _df.news.apply(lambda x:x.replace(\"。\", \"，\"))\n",
        "_df.news = _df.news.apply(lambda x:x.replace(\"？\", \"，\"))\n",
        "_df.news = _df.news.apply(lambda x:x.replace(\"；\", \"，\"))\n",
        "_df.news = _df.news.apply(lambda x:x.replace(\"、\", \"，\"))\n",
        "_df.news = _df.news.apply(lambda x:x.replace(\"！\", \"，\"))\n",
        "\n",
        "_df['sentences'] = _df.news.apply(lambda x:x.split('，'))\n",
        "_df['filter_raw'] = _df.sentences + _df.top5\n",
        "\n",
        "_df['test'] = _df.filter_raw.apply(extract_list_contains)\n",
        "_df['filter_text'] = _df.test.apply(lambda x:','.join(x))\n",
        "_df.filter_text.str.len().map(lambda x:int(x/10)*10).value_counts().sort_index().plot()"
      ],
      "execution_count": 4,
      "outputs": [
        {
          "output_type": "execute_result",
          "data": {
            "text/plain": [
              "<matplotlib.axes._subplots.AxesSubplot at 0x7fdc4996c160>"
            ]
          },
          "metadata": {
            "tags": []
          },
          "execution_count": 4
        },
        {
          "output_type": "display_data",
          "data": {
            "image/png": "[encoded data removed]",
            "text/plain": [
              "<Figure size 432x288 with 1 Axes>"
            ]
          },
          "metadata": {
            "tags": []
          }
        }
      ]
    },
    {
      "cell_type": "code",
      "metadata": {
        "id": "AzQLxt9HBKTa",
        "colab_type": "code",
        "outputId": "e5471f0f-a814-4a6f-cb44-0ea8d7328e47",
        "colab": {
          "base_uri": "https://localhost:8080/",
          "height": 748
        }
      },
      "source": [
        "_df[_df.filter_text.str.len()>300].head()"
      ],
      "execution_count": 5,
      "outputs": [
        {
          "output_type": "execute_result",
          "data": {
            "text/html": [
              "<div>\n",
              "<style scoped>\n",
              "    .dataframe tbody tr th:only-of-type {\n",
              "        vertical-align: middle;\n",
              "    }\n",
              "\n",
              "    .dataframe tbody tr th {\n",
              "        vertical-align: top;\n",
              "    }\n",
              "\n",
              "    .dataframe thead th {\n",
              "        text-align: right;\n",
              "    }\n",
              "</style>\n",
              "<table border=\"1\" class=\"dataframe\">\n",
              "  <thead>\n",
              "    <tr style=\"text-align: right;\">\n",
              "      <th></th>\n",
              "      <th>query</th>\n",
              "      <th>news</th>\n",
              "      <th>relevance</th>\n",
              "      <th>extract</th>\n",
              "      <th>top5</th>\n",
              "      <th>sentences</th>\n",
              "      <th>filter_raw</th>\n",
              "      <th>test</th>\n",
              "      <th>filter_text</th>\n",
              "    </tr>\n",
              "  </thead>\n",
              "  <tbody>\n",
              "    <tr>\n",
              "      <th>3</th>\n",
              "      <td>支持陳前總統保外就醫</td>\n",
              "      <td>前總統陳水扁申請重回民進黨，因爭議過大，受理的台北市黨部昨日以「逕送中央」方式，表達拒審態度...</td>\n",
              "      <td>1.0</td>\n",
              "      <td>[入黨, 民進, 中央, 申請, 還是, 扁入, 進行, 程序, 台北市, 總統]</td>\n",
              "      <td>[入黨, 民進, 中央, 申請, 還是]</td>\n",
              "      <td>[前總統陳水扁申請重回民進黨, 因爭議過大, 受理的台北市黨部昨日以「逕送中央」方式, 表達...</td>\n",
              "      <td>[前總統陳水扁申請重回民進黨, 因爭議過大, 受理的台北市黨部昨日以「逕送中央」方式, 表達...</td>\n",
              "      <td>[日前民進黨調查黑道入黨爭議時, 昨日上午先由主委莊瑞雄發函黨中央, 地方黨部實在無法說「y...</td>\n",
              "      <td>日前民進黨調查黑道入黨爭議時,昨日上午先由主委莊瑞雄發函黨中央,地方黨部實在無法說「yeso...</td>\n",
              "    </tr>\n",
              "    <tr>\n",
              "      <th>31</th>\n",
              "      <td>支持陳前總統保外就醫</td>\n",
              "      <td>串聯綠委優先搶救扁命〔記者李欣芳／台北報導〕台灣客社社長張葉森等本土社團幹部連日來串聯二十位...</td>\n",
              "      <td>3.0</td>\n",
              "      <td>[阿扁, 立委, 連署, 張葉森, 水扁, 其邁, 醫療, 健康, 優先, 社團]</td>\n",
              "      <td>[阿扁, 立委, 連署, 張葉森, 水扁]</td>\n",
              "      <td>[串聯綠委優先搶救扁命〔記者李欣芳／台北報導〕台灣客社社長張葉森等本土社團幹部連日來串聯二十...</td>\n",
              "      <td>[串聯綠委優先搶救扁命〔記者李欣芳／台北報導〕台灣客社社長張葉森等本土社團幹部連日來串聯二十...</td>\n",
              "      <td>[他關切陳水扁的醫療與司法人權, 爭取讓阿扁保外就醫或移監到高雄, 但當前應優先搶救阿扁, ...</td>\n",
              "      <td>他關切陳水扁的醫療與司法人權,爭取讓阿扁保外就醫或移監到高雄,但當前應優先搶救阿扁,目前應優...</td>\n",
              "    </tr>\n",
              "    <tr>\n",
              "      <th>43</th>\n",
              "      <td>支持陳前總統保外就醫</td>\n",
              "      <td>高分貝護子諷馬觀感不好〔記者施曉光／台北報導〕台北市長郝龍斌日前砲轟國民黨中央，點名要求如果...</td>\n",
              "      <td>1.0</td>\n",
              "      <td>[郝龍斌, 郝柏村, 國民黨, 兒子, 觀感, 意見, 英九, 談話, 主席, 大家]</td>\n",
              "      <td>[郝龍斌, 郝柏村, 國民黨, 兒子, 觀感]</td>\n",
              "      <td>[高分貝護子諷馬觀感不好〔記者施曉光／台北報導〕台北市長郝龍斌日前砲轟國民黨中央, 點名要求...</td>\n",
              "      <td>[高分貝護子諷馬觀感不好〔記者施曉光／台北報導〕台北市長郝龍斌日前砲轟國民黨中央, 點名要求...</td>\n",
              "      <td>[高分貝護子諷馬觀感不好〔記者施曉光／台北報導〕台北市長郝龍斌日前砲轟國民黨中央, 痛批郝是...</td>\n",
              "      <td>高分貝護子諷馬觀感不好〔記者施曉光／台北報導〕台北市長郝龍斌日前砲轟國民黨中央,痛批郝是失敗...</td>\n",
              "    </tr>\n",
              "    <tr>\n",
              "      <th>45</th>\n",
              "      <td>支持陳前總統保外就醫</td>\n",
              "      <td>監察院昨通過前總統陳水扁醫療調查報告案，直指法務部有怠失，且醫生認定陳水扁不適合再回監獄，書...</td>\n",
              "      <td>2.0</td>\n",
              "      <td>[水扁, 醫療, 調查, 報告, 阿扁, 報告案, 法務部, 認定, 監獄, 保外]</td>\n",
              "      <td>[水扁, 醫療, 調查, 報告, 阿扁]</td>\n",
              "      <td>[監察院昨通過前總統陳水扁醫療調查報告案, 直指法務部有怠失, 且醫生認定陳水扁不適合再回監...</td>\n",
              "      <td>[監察院昨通過前總統陳水扁醫療調查報告案, 直指法務部有怠失, 且醫生認定陳水扁不適合再回監...</td>\n",
              "      <td>[台北榮總對陳水扁所做的出院準備報告建議, 監察院昨通過前總統陳水扁醫療調查報告案, 並召集...</td>\n",
              "      <td>台北榮總對陳水扁所做的出院準備報告建議,監察院昨通過前總統陳水扁醫療調查報告案,並召集阿扁民...</td>\n",
              "    </tr>\n",
              "    <tr>\n",
              "      <th>46</th>\n",
              "      <td>支持陳前總統保外就醫</td>\n",
              "      <td>如果，選舉是民主國家權力的正當性基礎，那麼，在九合一潰敗後的國民黨，可說是處在權力正當性的廢...</td>\n",
              "      <td>3.0</td>\n",
              "      <td>[總統, 判斷, 水扁, 保外, 專業, 醫治, 問題, 政治, 法務部, 權力]</td>\n",
              "      <td>[總統, 判斷, 水扁, 保外, 專業]</td>\n",
              "      <td>[如果, 選舉是民主國家權力的正當性基礎, 那麼, 在九合一潰敗後的國民黨, 可說是處在權力...</td>\n",
              "      <td>[如果, 選舉是民主國家權力的正當性基礎, 那麼, 在九合一潰敗後的國民黨, 可說是處在權力...</td>\n",
              "      <td>[馬總統也就難以迴避, 我們知道馬總統想要尊重專業, 我們期望馬總統與法務部作出政治判斷, ...</td>\n",
              "      <td>馬總統也就難以迴避,我們知道馬總統想要尊重專業,我們期望馬總統與法務部作出政治判斷,馬總統依...</td>\n",
              "    </tr>\n",
              "  </tbody>\n",
              "</table>\n",
              "</div>"
            ],
            "text/plain": [
              "         query  ...                                        filter_text\n",
              "3   支持陳前總統保外就醫  ...  日前民進黨調查黑道入黨爭議時,昨日上午先由主委莊瑞雄發函黨中央,地方黨部實在無法說「yeso...\n",
              "31  支持陳前總統保外就醫  ...  他關切陳水扁的醫療與司法人權,爭取讓阿扁保外就醫或移監到高雄,但當前應優先搶救阿扁,目前應優...\n",
              "43  支持陳前總統保外就醫  ...  高分貝護子諷馬觀感不好〔記者施曉光／台北報導〕台北市長郝龍斌日前砲轟國民黨中央,痛批郝是失敗...\n",
              "45  支持陳前總統保外就醫  ...  台北榮總對陳水扁所做的出院準備報告建議,監察院昨通過前總統陳水扁醫療調查報告案,並召集阿扁民...\n",
              "46  支持陳前總統保外就醫  ...  馬總統也就難以迴避,我們知道馬總統想要尊重專業,我們期望馬總統與法務部作出政治判斷,馬總統依...\n",
              "\n",
              "[5 rows x 9 columns]"
            ]
          },
          "metadata": {
            "tags": []
          },
          "execution_count": 5
        }
      ]
    },
    {
      "cell_type": "code",
      "metadata": {
        "id": "Phm3yZb9X6dQ",
        "colab_type": "code",
        "outputId": "ea3ec733-f9fd-47c4-cf31-756b132adbba",
        "colab": {
          "base_uri": "https://localhost:8080/",
          "height": 282
        }
      },
      "source": [
        "_df.news.str.len().map(lambda x: int(x/50)*50).value_counts().sort_index().plot()"
      ],
      "execution_count": 6,
      "outputs": [
        {
          "output_type": "execute_result",
          "data": {
            "text/plain": [
              "<matplotlib.axes._subplots.AxesSubplot at 0x7fdc55e12438>"
            ]
          },
          "metadata": {
            "tags": []
          },
          "execution_count": 6
        },
        {
          "output_type": "display_data",
          "data": {
            "image/png": "[encoded data removed]",
            "text/plain": [
              "<Figure size 432x288 with 1 Axes>"
            ]
          },
          "metadata": {
            "tags": []
          }
        }
      ]
    },
    {
      "cell_type": "code",
      "metadata": {
        "id": "fCihshSJX_Yr",
        "colab_type": "code",
        "outputId": "f2f21b31-b3f2-4799-a536-8f11a319fdc6",
        "colab": {
          "base_uri": "https://localhost:8080/",
          "height": 285
        }
      },
      "source": [
        "_df.filter_text.str.len().map(lambda x: int(x/50)*50).value_counts().sort_index().plot()"
      ],
      "execution_count": 7,
      "outputs": [
        {
          "output_type": "execute_result",
          "data": {
            "text/plain": [
              "<matplotlib.axes._subplots.AxesSubplot at 0x7fdc49434a90>"
            ]
          },
          "metadata": {
            "tags": []
          },
          "execution_count": 7
        },
        {
          "output_type": "display_data",
          "data": {
            "image/png": "[encoded data removed]",
            "text/plain": [
              "<Figure size 432x288 with 1 Axes>"
            ]
          },
          "metadata": {
            "tags": []
          }
        }
      ]
    },
    {
      "cell_type": "markdown",
      "metadata": {
        "id": "R7ksCQ6fDbFH",
        "colab_type": "text"
      },
      "source": [
        "#透過斷句及篩選       <br>大概將文本字數刪減至一半 <br >以利Bert分析"
      ]
    },
    {
      "cell_type": "code",
      "metadata": {
        "id": "aLe5YZlV3NaR",
        "colab_type": "code",
        "colab": {}
      },
      "source": [
        "def get_split(text1):\n",
        "  text_total_len = 200 #default:200\n",
        "  text_overlap = 50 #default:50\n",
        "  text_len = text_total_len - text_overlap\n",
        "  \n",
        "  l_total = []\n",
        "  l_parcial = []\n",
        "  if len(list(text1))//text_len >0:\n",
        "    n = len(list(text1))//text_len\n",
        "  else: \n",
        "    n = 1\n",
        "  for w in range(n):\n",
        "    if w == 0:\n",
        "      l_parcial = list(text1)[:text_total_len]\n",
        "      l_total.append(\"\".join(l_parcial))\n",
        "    else:\n",
        "      l_parcial = list(text1)[w*text_len:w*text_len + text_total_len]\n",
        "      l_total.append(\"\".join(l_parcial))\n",
        "  return l_total\n",
        "_df['filter_split'] = _df.filter_text.apply(get_split)"
      ],
      "execution_count": 0,
      "outputs": []
    },
    {
      "cell_type": "code",
      "metadata": {
        "id": "9M0lb3xuW4L1",
        "colab_type": "code",
        "outputId": "8bd169bd-fa80-4930-c94e-0911bdc80a39",
        "colab": {
          "base_uri": "https://localhost:8080/",
          "height": 34
        }
      },
      "source": [
        "text_a = []\n",
        "text_b = []\n",
        "label_l = []\n",
        "index_l = []\n",
        "\n",
        "for idx,row in _df.iterrows():\n",
        "  for rs in row['filter_split']:\n",
        "    text_a.append(row['query'])\n",
        "    text_b.append(rs)\n",
        "    label_l.append(row['relevance'])\n",
        "    index_l.append(idx)\n",
        "\n",
        "len(text_a), len(text_b),len(label_l),len(index_l)"
      ],
      "execution_count": 9,
      "outputs": [
        {
          "output_type": "execute_result",
          "data": {
            "text/plain": [
              "(6254, 6254, 6254, 6254)"
            ]
          },
          "metadata": {
            "tags": []
          },
          "execution_count": 9
        }
      ]
    },
    {
      "cell_type": "code",
      "metadata": {
        "id": "aoaLBwF0W4Iy",
        "colab_type": "code",
        "outputId": "86f62d22-8f94-4407-faa8-cad09fc00f22",
        "colab": {
          "base_uri": "https://localhost:8080/",
          "height": 204
        }
      },
      "source": [
        "new_df = pd.DataFrame({'text_a':text_a, 'text_b':text_b, 'label':label_l, 'idx':index_l})\n",
        "new_df.head()"
      ],
      "execution_count": 10,
      "outputs": [
        {
          "output_type": "execute_result",
          "data": {
            "text/html": [
              "<div>\n",
              "<style scoped>\n",
              "    .dataframe tbody tr th:only-of-type {\n",
              "        vertical-align: middle;\n",
              "    }\n",
              "\n",
              "    .dataframe tbody tr th {\n",
              "        vertical-align: top;\n",
              "    }\n",
              "\n",
              "    .dataframe thead th {\n",
              "        text-align: right;\n",
              "    }\n",
              "</style>\n",
              "<table border=\"1\" class=\"dataframe\">\n",
              "  <thead>\n",
              "    <tr style=\"text-align: right;\">\n",
              "      <th></th>\n",
              "      <th>text_a</th>\n",
              "      <th>text_b</th>\n",
              "      <th>label</th>\n",
              "      <th>idx</th>\n",
              "    </tr>\n",
              "  </thead>\n",
              "  <tbody>\n",
              "    <tr>\n",
              "      <th>0</th>\n",
              "      <td>支持陳前總統保外就醫</td>\n",
              "      <td>早就應該儘快「保外就醫」,鑑定結果一致認定通過「阿扁應保外就醫,准扁保外就醫,外界關切陳水扁...</td>\n",
              "      <td>2.0</td>\n",
              "      <td>0</td>\n",
              "    </tr>\n",
              "    <tr>\n",
              "      <th>1</th>\n",
              "      <td>支持陳前總統保外就醫</td>\n",
              "      <td>鎖定中時,中時電子報提供您最新生活資訊,她在學校上電腦課時,(中時電子報),同時表態自己是支...</td>\n",
              "      <td>1.0</td>\n",
              "      <td>1</td>\n",
              "    </tr>\n",
              "    <tr>\n",
              "      <th>2</th>\n",
              "      <td>支持陳前總統保外就醫</td>\n",
              "      <td>陳水扁的健康狀況過去兩年來包括台北榮總,針對法務部昨（8）日指若前總統陳水扁近半年病情確有變...</td>\n",
              "      <td>3.0</td>\n",
              "      <td>2</td>\n",
              "    </tr>\n",
              "    <tr>\n",
              "      <th>3</th>\n",
              "      <td>支持陳前總統保外就醫</td>\n",
              "      <td>日前民進黨調查黑道入黨爭議時,昨日上午先由主委莊瑞雄發函黨中央,地方黨部實在無法說「yeso...</td>\n",
              "      <td>1.0</td>\n",
              "      <td>3</td>\n",
              "    </tr>\n",
              "    <tr>\n",
              "      <th>4</th>\n",
              "      <td>支持陳前總統保外就醫</td>\n",
              "      <td>入黨複審小組召開會議進行討論,但扁入黨仍是一波三折,旋即由黨秘書長林錫耀邀集組織部主任李文忠...</td>\n",
              "      <td>1.0</td>\n",
              "      <td>3</td>\n",
              "    </tr>\n",
              "  </tbody>\n",
              "</table>\n",
              "</div>"
            ],
            "text/plain": [
              "       text_a                                             text_b  label  idx\n",
              "0  支持陳前總統保外就醫  早就應該儘快「保外就醫」,鑑定結果一致認定通過「阿扁應保外就醫,准扁保外就醫,外界關切陳水扁...    2.0    0\n",
              "1  支持陳前總統保外就醫  鎖定中時,中時電子報提供您最新生活資訊,她在學校上電腦課時,(中時電子報),同時表態自己是支...    1.0    1\n",
              "2  支持陳前總統保外就醫  陳水扁的健康狀況過去兩年來包括台北榮總,針對法務部昨（8）日指若前總統陳水扁近半年病情確有變...    3.0    2\n",
              "3  支持陳前總統保外就醫  日前民進黨調查黑道入黨爭議時,昨日上午先由主委莊瑞雄發函黨中央,地方黨部實在無法說「yeso...    1.0    3\n",
              "4  支持陳前總統保外就醫  入黨複審小組召開會議進行討論,但扁入黨仍是一波三折,旋即由黨秘書長林錫耀邀集組織部主任李文忠...    1.0    3"
            ]
          },
          "metadata": {
            "tags": []
          },
          "execution_count": 10
        }
      ]
    },
    {
      "cell_type": "code",
      "metadata": {
        "id": "4PRvCQe6W4GK",
        "colab_type": "code",
        "colab": {}
      },
      "source": [
        "dev_0225_q2 = new_df[new_df.label!=0.5].sample(1000)\n",
        "train_raw = pd.concat([new_df,dev_0225_q2]).drop_duplicates(keep=False)\n",
        "test_0225_q2 = train_raw[train_raw.label == 0.5]\n",
        "train_0225_q2 = pd.concat([test_0225_q2,train_raw]).drop_duplicates(keep=False)"
      ],
      "execution_count": 0,
      "outputs": []
    },
    {
      "cell_type": "code",
      "metadata": {
        "id": "U9SNfREoHfmH",
        "colab_type": "code",
        "colab": {}
      },
      "source": [
        "dev_0225_q2.to_csv(PATH + 'dev_0225_q2.tsv', index=False, sep='\\t', encoding='utf-8')\n",
        "train_0225_q2.to_csv(PATH + 'train_0225_q2.tsv', index=False, sep='\\t', encoding='utf-8')\n",
        "test_0225_q2.to_csv(PATH + 'test_0225_q2.tsv', index=False, sep='\\t', encoding='utf-8')"
      ],
      "execution_count": 0,
      "outputs": []
    },
    {
      "cell_type": "code",
      "metadata": {
        "id": "wSeEDBGTW4Dk",
        "colab_type": "code",
        "outputId": "dcada8c3-f9f7-4a24-e761-ed309aa5252f",
        "colab": {
          "base_uri": "https://localhost:8080/",
          "height": 63
        }
      },
      "source": [
        "\n",
        "import torch\n",
        "from torch.utils.data import Dataset\n",
        "\n",
        "from transformers import BertTokenizer,BertForSequenceClassification\n",
        "from IPython.display import clear_output\n",
        "\n",
        "PRETRAINED_MODEL_NAME = \"bert-base-chinese\"  \n",
        "\n",
        "\n",
        "tokenizer = BertTokenizer.from_pretrained(PRETRAINED_MODEL_NAME)\n",
        "    \n",
        "class NewsDataset(Dataset):\n",
        "\n",
        "    def __init__(self, mode, tokenizer):\n",
        "        assert mode in [\"train_0225_q2\", \"test_0225_q2\",\"dev_0225_q2\"]  \n",
        "        self.mode = mode\n",
        "        self.df = pd.read_csv(PATH + mode + \".tsv\", sep=\"\\t\").fillna(\"\")\n",
        "        self.len = len(self.df)\n",
        "        self.tokenizer = tokenizer  \n",
        "    \n",
        "    \n",
        "    def __getitem__(self, idx):\n",
        "        if self.mode == \"test_0225_q2\":\n",
        "            text_a, text_b = self.df.iloc[idx, :2].values\n",
        "            label_tensor = None\n",
        "        else:\n",
        "            text_a, text_b, label = self.df.iloc[idx, :3].values\n",
        "           \n",
        "            label_tensor = torch.tensor(label,dtype=torch.long)\n",
        "            \n",
        "      \n",
        "        word_pieces = [\"[CLS]\"]\n",
        "        tokens_a = self.tokenizer.tokenize(text_a)\n",
        "        word_pieces += tokens_a + [\"[SEP]\"]\n",
        "        len_a = len(word_pieces)\n",
        "        \n",
        "        tokens_b = self.tokenizer.tokenize(text_b)\n",
        "        word_pieces += tokens_b + [\"[SEP]\"]\n",
        "        len_b = len(word_pieces) - len_a\n",
        "        \n",
        "        ids = self.tokenizer.convert_tokens_to_ids(word_pieces)\n",
        "        tokens_tensor = torch.tensor(ids)\n",
        "        \n",
        "        segments_tensor = torch.tensor([0] * len_a + [1] * len_b, \n",
        "                                        dtype=torch.long)\n",
        "        \n",
        "        return (tokens_tensor, segments_tensor, label_tensor)\n",
        "    \n",
        "    def __len__(self):\n",
        "        return self.len\n",
        "    \n",
        "    \n",
        "# 初始化一個專門讀取訓練樣本的 Dataset，使用中文 BERT 斷詞\n",
        "trainset = NewsDataset(\"train_0225_q2\", tokenizer=tokenizer)"
      ],
      "execution_count": 13,
      "outputs": [
        {
          "output_type": "display_data",
          "data": {
            "text/html": [
              "<p style=\"color: red;\">\n",
              "The default version of TensorFlow in Colab will soon switch to TensorFlow 2.x.<br>\n",
              "We recommend you <a href=\"https://www.tensorflow.org/guide/migrate\" target=\"_blank\">upgrade</a> now \n",
              "or ensure your notebook will continue to use TensorFlow 1.x via the <code>%tensorflow_version 1.x</code> magic:\n",
              "<a href=\"https://colab.research.google.com/notebooks/tensorflow_version.ipynb\" target=\"_blank\">more info</a>.</p>\n"
            ],
            "text/plain": [
              "<IPython.core.display.HTML object>"
            ]
          },
          "metadata": {
            "tags": []
          }
        }
      ]
    },
    {
      "cell_type": "code",
      "metadata": {
        "id": "07f9EaCBSRhZ",
        "colab_type": "code",
        "outputId": "57dc03c0-f1d7-406c-838d-82ac8983af69",
        "colab": {
          "base_uri": "https://localhost:8080/",
          "height": 122
        }
      },
      "source": [
        "sample_idx = 0\n",
        "text_a, text_b, label = trainset.df.iloc[sample_idx, :3].values\n",
        "tokens_tensor, segments_tensor, label_tensor = trainset[sample_idx]\n",
        "\n",
        "tokens = tokenizer.convert_ids_to_tokens(tokens_tensor.tolist())\n",
        "combined_text = \"\".join(tokens)\n",
        "\n",
        "print(f\"\"\"\n",
        "句子 1：{text_a}\n",
        "句子 2：{text_b}\n",
        "分類  ：{label}\n",
        "\"\"\")\n"
      ],
      "execution_count": 14,
      "outputs": [
        {
          "output_type": "stream",
          "text": [
            "\n",
            "句子 1：支持陳前總統保外就醫\n",
            "句子 2：早就應該儘快「保外就醫」,鑑定結果一致認定通過「阿扁應保外就醫,准扁保外就醫,外界關切陳水扁能否獲准保外就醫,而准予保外就醫,而有必要保外就醫的人\n",
            "分類  ：2.0\n",
            "\n"
          ],
          "name": "stdout"
        }
      ]
    },
    {
      "cell_type": "code",
      "metadata": {
        "id": "fNhsuqOWSRfF",
        "colab_type": "code",
        "colab": {}
      },
      "source": [
        "from torch.utils.data import DataLoader\n",
        "from torch.nn.utils.rnn import pad_sequence\n",
        "\n",
        "def create_mini_batch(samples):\n",
        "    tokens_tensors = [s[0] for s in samples]\n",
        "    segments_tensors = [s[1] for s in samples]\n",
        "    \n",
        "    if samples[0][2] is not None:\n",
        "        label_ids = torch.stack([s[2] for s in samples])\n",
        "    else:\n",
        "        label_ids = None\n",
        "    \n",
        "    tokens_tensors = pad_sequence(tokens_tensors, \n",
        "                                  batch_first=True)\n",
        "    segments_tensors = pad_sequence(segments_tensors, \n",
        "                                    batch_first=True)\n",
        "    \n",
        "    masks_tensors = torch.zeros(tokens_tensors.shape, \n",
        "                                dtype=torch.long)\n",
        "    masks_tensors = masks_tensors.masked_fill(\n",
        "        tokens_tensors != 0, 1)\n",
        "    \n",
        "    return tokens_tensors, segments_tensors, masks_tensors, label_ids\n",
        "\n",
        "BATCH_SIZE = 32\n",
        "trainloader = DataLoader(trainset, batch_size=BATCH_SIZE, \n",
        "                         collate_fn=create_mini_batch)"
      ],
      "execution_count": 0,
      "outputs": []
    },
    {
      "cell_type": "code",
      "metadata": {
        "id": "Kb44N3nASRan",
        "colab_type": "code",
        "outputId": "fb2194d8-81bd-4284-966a-0a61687c4ca9",
        "colab": {
          "base_uri": "https://localhost:8080/",
          "height": 153
        }
      },
      "source": [
        "from transformers import BertForSequenceClassification\n",
        "\n",
        "PRETRAINED_MODEL_NAME = \"bert-base-chinese\"\n",
        "NUM_LABELS = 4\n",
        "\n",
        "model = BertForSequenceClassification.from_pretrained(\n",
        "    PRETRAINED_MODEL_NAME, num_labels=NUM_LABELS)\n",
        "\n",
        "clear_output()\n",
        "\n",
        "print(\"\"\"\n",
        "name            module\n",
        "----------------------\"\"\")\n",
        "for name, module in model.named_children():\n",
        "    if name == \"bert\":\n",
        "        for n, _ in module.named_children():\n",
        "            print(f\"{name}:{n}\")\n",
        "    else:\n",
        "        print(\"{:15} {}\".format(name, module))"
      ],
      "execution_count": 16,
      "outputs": [
        {
          "output_type": "stream",
          "text": [
            "\n",
            "name            module\n",
            "----------------------\n",
            "bert:embeddings\n",
            "bert:encoder\n",
            "bert:pooler\n",
            "dropout         Dropout(p=0.1, inplace=False)\n",
            "classifier      Linear(in_features=768, out_features=4, bias=True)\n"
          ],
          "name": "stdout"
        }
      ]
    },
    {
      "cell_type": "code",
      "metadata": {
        "id": "sFgqQfLSSRV4",
        "colab_type": "code",
        "outputId": "fc1be809-0396-472b-8d84-10a2884b2f97",
        "colab": {
          "base_uri": "https://localhost:8080/",
          "height": 51
        }
      },
      "source": [
        "\n",
        "def get_predictions(model, dataloader, compute_acc=False):\n",
        "    predictions = None\n",
        "    correct = 0\n",
        "    total = 0\n",
        "      \n",
        "    with torch.no_grad():\n",
        "        for data in dataloader:\n",
        "            if next(model.parameters()).is_cuda:\n",
        "                data = [t.to(\"cuda:0\") for t in data if t is not None]\n",
        "            tokens_tensors, segments_tensors, masks_tensors = data[:3]\n",
        "            outputs = model(input_ids=tokens_tensors, \n",
        "                            token_type_ids=segments_tensors, \n",
        "                            attention_mask=masks_tensors)\n",
        "            \n",
        "            logits = outputs[0]\n",
        "            _, pred = torch.max(logits.data, 1)\n",
        "            \n",
        "            if compute_acc:\n",
        "                labels = data[3]\n",
        "                total += labels.size(0)\n",
        "                correct += (pred == labels).sum().item()\n",
        "                \n",
        "            if predictions is None:\n",
        "                predictions = pred\n",
        "            else:\n",
        "                predictions = torch.cat((predictions, pred))\n",
        "    \n",
        "    if compute_acc:\n",
        "        acc = correct / total\n",
        "        return predictions, acc\n",
        "    return predictions\n",
        "    \n",
        "device = torch.device(\"cuda:0\" if torch.cuda.is_available() else \"cpu\")\n",
        "print(\"device:\", device)\n",
        "model = model.to(device)\n",
        "_, acc = get_predictions(model, trainloader, compute_acc=True)\n",
        "print(\"classification acc:\", acc)"
      ],
      "execution_count": 17,
      "outputs": [
        {
          "output_type": "stream",
          "text": [
            "device: cuda:0\n",
            "classification acc: 0.29983342587451417\n"
          ],
          "name": "stdout"
        }
      ]
    },
    {
      "cell_type": "code",
      "metadata": {
        "id": "O_H0THEaSROF",
        "colab_type": "code",
        "colab": {}
      },
      "source": [
        "%%time\n",
        "\n",
        "model.train()\n",
        "\n",
        "optimizer = torch.optim.Adam(model.parameters(), lr=1e-5)\n",
        "\n",
        "\n",
        "EPOCHS = 7  \n",
        "for epoch in range(EPOCHS):\n",
        "    running_loss = 0.0\n",
        "    for data in trainloader:\n",
        "        \n",
        "        tokens_tensors, segments_tensors, \\\n",
        "        masks_tensors, labels = [t.to(device) for t in data]\n",
        "\n",
        "        optimizer.zero_grad()\n",
        "        \n",
        "        outputs = model(input_ids=tokens_tensors, \n",
        "                        token_type_ids=segments_tensors, \n",
        "                        attention_mask=masks_tensors, \n",
        "                        labels=labels)\n",
        "\n",
        "        loss = outputs[0]\n",
        "        \n",
        "        loss.backward()\n",
        "        optimizer.step()\n",
        "\n",
        "        running_loss += loss.item()\n",
        "        \n",
        "    _, acc = get_predictions(model, trainloader, compute_acc=True)\n",
        "\n",
        "    print('[epoch %d] loss: %.3f, acc: %.3f' %\n",
        "          (epoch + 1, running_loss, acc))\n",
        "    "
      ],
      "execution_count": 0,
      "outputs": []
    },
    {
      "cell_type": "code",
      "metadata": {
        "id": "RegMrMlxSRLe",
        "colab_type": "code",
        "colab": {}
      },
      "source": [
        "%%time\n",
        "testset = NewsDataset(\"dev_0225_q2\", tokenizer=tokenizer)\n",
        "testloader = DataLoader(testset, batch_size=64, \n",
        "                        collate_fn=create_mini_batch)\n",
        "\n",
        "predictions = get_predictions(model, testloader)\n",
        "\n",
        "df = pd.DataFrame({\"predicted\": predictions.tolist()})\n",
        "df1 = pd.concat([testset.df, df.loc[:, 'predicted']], axis=1)"
      ],
      "execution_count": 0,
      "outputs": []
    },
    {
      "cell_type": "code",
      "metadata": {
        "id": "ElJTVFPpW370",
        "colab_type": "code",
        "colab": {}
      },
      "source": [
        "df1.head()"
      ],
      "execution_count": 0,
      "outputs": []
    },
    {
      "cell_type": "code",
      "metadata": {
        "id": "MRWiUt_LW31g",
        "colab_type": "code",
        "colab": {}
      },
      "source": [
        "%%time\n",
        "testset2 = NewsDataset(\"test_0225_q2\", tokenizer=tokenizer)\n",
        "testloader2 = DataLoader(testset2, batch_size=64, \n",
        "                        collate_fn=create_mini_batch)\n",
        "\n",
        "predictions2 = get_predictions(model, testloader2)\n",
        "\n",
        "df2 = pd.DataFrame({\"predicted\": predictions2.tolist()})\n",
        "df1_2 = pd.concat([testset2.df, df2.loc[:, 'predicted']], axis=1)\n"
      ],
      "execution_count": 0,
      "outputs": []
    },
    {
      "cell_type": "code",
      "metadata": {
        "id": "EoC0NVtLXiyM",
        "colab_type": "code",
        "colab": {}
      },
      "source": [
        "import numpy as np\n",
        "#取眾數、高\n",
        "idx_df = df1_2.groupby('idx').agg(lambda x: int(np.mean(pd.Series.mode(x)))).reset_index()"
      ],
      "execution_count": 0,
      "outputs": []
    },
    {
      "cell_type": "code",
      "metadata": {
        "id": "77Ld-LutePSd",
        "colab_type": "code",
        "colab": {}
      },
      "source": [
        "idx_df"
      ],
      "execution_count": 0,
      "outputs": []
    },
    {
      "cell_type": "code",
      "metadata": {
        "id": "FUaeuGxPeRfe",
        "colab_type": "code",
        "colab": {}
      },
      "source": [
        "test_df['predicted'] = idx_df.predicted"
      ],
      "execution_count": 0,
      "outputs": []
    },
    {
      "cell_type": "code",
      "metadata": {
        "id": "6a8tmCnRepjF",
        "colab_type": "code",
        "colab": {}
      },
      "source": [
        "test_df.to_csv('/content/drive/My Drive/Q2/prediction0226Final.tsv',sep='\\t', encoding='utf-8')"
      ],
      "execution_count": 0,
      "outputs": []
    }
  ]
}