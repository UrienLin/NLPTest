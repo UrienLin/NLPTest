{
  "nbformat": 4,
  "nbformat_minor": 0,
  "metadata": {
    "colab": {
      "name": "KBQA.ipynb",
      "provenance": [],
      "machine_shape": "hm",
      "authorship_tag": "ABX9TyNGP9FwD1xKBCYxo1fIgT0N",
      "include_colab_link": true
    },
    "kernelspec": {
      "name": "python3",
      "display_name": "Python 3"
    }
  },
  "cells": [
    {
      "cell_type": "markdown",
      "metadata": {
        "id": "view-in-github",
        "colab_type": "text"
      },
      "source": [
        "<a href=\"https://colab.research.google.com/github/UrienLin/NLPTest/blob/master/KBQA.ipynb\" target=\"_parent\"><img src=\"https://colab.research.google.com/assets/colab-badge.svg\" alt=\"Open In Colab\"/></a>"
      ]
    },
    {
      "cell_type": "markdown",
      "metadata": {
        "id": "rKmgdGVIaYmT",
        "colab_type": "text"
      },
      "source": [
        "\n",
        "\n",
        "\n",
        "## KBQA \n",
        "> [根據此篇文章](https://zhuanlan.zhihu.com/p/62946533)\n",
        "### 模組1. NER 辨識 Question 中的 KeyWord\n",
        "1-1. 利用關鍵字，標註關鍵字在 問句 的 index<BR> \n",
        "1-2. 將 1-1 做為TokenClassfication的LABEL位置<BR>\n",
        "1-3. ~~訓練 NER 模型 (Input 問句 Output 關鍵字)~~<BR>\n",
        "\n",
        "update 1-3 >> 改用HANLP <br>\n",
        "update 1-3 >> 僅完成前100筆資料清整測試\n",
        "\n",
        "---\n",
        "1-4. 產生問答 Triple Set\n",
        "### 模組2. 句子相似度\n",
        "2-1. 將模組1.的 Output 關鍵字在 Knowledge 中搜尋<BR>\n",
        "2-2. 將 2-1 的句子集合 與 問題 做句子相似度判斷 <BR>\n",
        "2-3. 2-2 該項最相似的一筆資料的 ANSWER 作為回答\n",
        "\n"
      ]
    },
    {
      "cell_type": "code",
      "metadata": {
        "id": "X6-fh0eZaCO_",
        "colab_type": "code",
        "outputId": "bf44872b-2094-44e5-dbe5-d0800fdcd52b",
        "colab": {
          "base_uri": "https://localhost:8080/",
          "height": 122
        }
      },
      "source": [
        "!pip install jieba -q\n",
        "!pip install transformers -q\n",
        "!pip install hanlp -q\n",
        "from google.colab import drive\n",
        "drive.mount('/content/drive')\n",
        "\n",
        "import pandas as  pd\n",
        "import jieba.analyse\n",
        "import hanlp\n",
        "\n",
        "tokenizer = hanlp.load('PKU_NAME_MERGED_SIX_MONTHS_CONVSEG')\n",
        "tagger = hanlp.load(hanlp.pretrained.pos.CTB5_POS_RNN_FASTTEXT_ZH)"
      ],
      "execution_count": 46,
      "outputs": [
        {
          "output_type": "stream",
          "text": [
            "Drive already mounted at /content/drive; to attempt to forcibly remount, call drive.mount(\"/content/drive\", force_remount=True).\n",
            "Executing op HashTableV2 in device /job:localhost/replica:0/task:0/device:CPU:0\n",
            "Executing op HashTableV2 in device /job:localhost/replica:0/task:0/device:CPU:0\n",
            "Executing op HashTableV2 in device /job:localhost/replica:0/task:0/device:CPU:0\n",
            "Executing op HashTableV2 in device /job:localhost/replica:0/task:0/device:CPU:0\n"
          ],
          "name": "stdout"
        }
      ]
    },
    {
      "cell_type": "code",
      "metadata": {
        "id": "ldlvgqTnE5_r",
        "colab_type": "code",
        "colab": {}
      },
      "source": [
        "#PATH\n",
        "raw = pd.read_csv('/content/drive/My Drive/20190825 Challenge/04_Kbqa.training-data', sep='\\t',header=None)\n",
        "#LOCAL PATH\n",
        "#raw = pd.read_csv('./04_Kbqa.training-data', sep='\\t',header=None)"
      ],
      "execution_count": 0,
      "outputs": []
    },
    {
      "cell_type": "code",
      "metadata": {
        "id": "m_0mgjlVF3ui",
        "colab_type": "code",
        "colab": {}
      },
      "source": [
        "raw.columns = ['iden','text']\n",
        "_df = raw.head(100)\n",
        "_df['token'] = _df.text.apply(lambda x: tokenizer(str(x)))\n",
        "_df['POS'] = _df['token'].apply(lambda x : tagger(x))"
      ],
      "execution_count": 0,
      "outputs": []
    },
    {
      "cell_type": "code",
      "metadata": {
        "id": "JiJ7HEtuF3kI",
        "colab_type": "code",
        "colab": {
          "base_uri": "https://localhost:8080/",
          "height": 289
        },
        "outputId": "aaae9102-e14e-4cbe-993b-d86d219860b6"
      },
      "source": [
        "_df.head()"
      ],
      "execution_count": 52,
      "outputs": [
        {
          "output_type": "execute_result",
          "data": {
            "text/html": [
              "<div>\n",
              "<style scoped>\n",
              "    .dataframe tbody tr th:only-of-type {\n",
              "        vertical-align: middle;\n",
              "    }\n",
              "\n",
              "    .dataframe tbody tr th {\n",
              "        vertical-align: top;\n",
              "    }\n",
              "\n",
              "    .dataframe thead th {\n",
              "        text-align: right;\n",
              "    }\n",
              "</style>\n",
              "<table border=\"1\" class=\"dataframe\">\n",
              "  <thead>\n",
              "    <tr style=\"text-align: right;\">\n",
              "      <th></th>\n",
              "      <th>iden</th>\n",
              "      <th>text</th>\n",
              "      <th>token</th>\n",
              "      <th>POS</th>\n",
              "      <th>POS_ID</th>\n",
              "    </tr>\n",
              "  </thead>\n",
              "  <tbody>\n",
              "    <tr>\n",
              "      <th>0</th>\n",
              "      <td>&lt;question id=1&gt;</td>\n",
              "      <td>《机械设计基础》这本书的作者是谁？</td>\n",
              "      <td>[《, 机械, 设计, 基础, 》, 这, 本, 书, 的, 作者, 是, 谁, ？]</td>\n",
              "      <td>[PU, NN, NN, NN, PU, DT, M, NN, DEG, NN, VC, P...</td>\n",
              "      <td>[0, 1, 1, 1, 0, 0, 0, 1, 0, 1, 0, 0, 0]</td>\n",
              "    </tr>\n",
              "    <tr>\n",
              "      <th>1</th>\n",
              "      <td>&lt;answer id=1&gt;</td>\n",
              "      <td>杨可桢，程光蕴，李仲生</td>\n",
              "      <td>[杨可桢, ，, 程光蕴, ，, 李仲生]</td>\n",
              "      <td>[NR, PU, NR, PU, NR]</td>\n",
              "      <td>[0, 0, 0, 0, 0]</td>\n",
              "    </tr>\n",
              "    <tr>\n",
              "      <th>2</th>\n",
              "      <td>==============================================...</td>\n",
              "      <td>NaN</td>\n",
              "      <td>[nan]</td>\n",
              "      <td>[NN]</td>\n",
              "      <td>[1]</td>\n",
              "    </tr>\n",
              "    <tr>\n",
              "      <th>3</th>\n",
              "      <td>&lt;question id=2&gt;</td>\n",
              "      <td>《高等数学》是哪个出版社出版的？</td>\n",
              "      <td>[《, 高等, 数学, 》, 是, 哪个, 出版社, 出版, 的, ？]</td>\n",
              "      <td>[PU, JJ, NN, PU, VC, DT, NN, VV, DEC, PU]</td>\n",
              "      <td>[0, 0, 1, 0, 0, 0, 1, 0, 0, 0]</td>\n",
              "    </tr>\n",
              "    <tr>\n",
              "      <th>4</th>\n",
              "      <td>&lt;answer id=2&gt;</td>\n",
              "      <td>武汉大学出版社</td>\n",
              "      <td>[武汉, 大学, 出版社]</td>\n",
              "      <td>[NR, NN, NN]</td>\n",
              "      <td>[0, 1, 1]</td>\n",
              "    </tr>\n",
              "  </tbody>\n",
              "</table>\n",
              "</div>"
            ],
            "text/plain": [
              "                                                iden  ...                                   POS_ID\n",
              "0                                    <question id=1>  ...  [0, 1, 1, 1, 0, 0, 0, 1, 0, 1, 0, 0, 0]\n",
              "1                                      <answer id=1>  ...                          [0, 0, 0, 0, 0]\n",
              "2  ==============================================...  ...                                      [1]\n",
              "3                                    <question id=2>  ...           [0, 0, 1, 0, 0, 0, 1, 0, 0, 0]\n",
              "4                                      <answer id=2>  ...                                [0, 1, 1]\n",
              "\n",
              "[5 rows x 5 columns]"
            ]
          },
          "metadata": {
            "tags": []
          },
          "execution_count": 52
        }
      ]
    },
    {
      "cell_type": "code",
      "metadata": {
        "id": "1o60hCaKF3fC",
        "colab_type": "code",
        "colab": {
          "base_uri": "https://localhost:8080/",
          "height": 139
        },
        "outputId": "1887302d-4118-4f5f-cdc2-cde8d6ace06e"
      },
      "source": [
        "def POS_Weight(list_POS):\n",
        "  return ['1' if x=='NN' else '0' for x in list_POS]\n",
        "\n",
        "_df['POS_ID'] = _df.POS.apply(POS_Weight)"
      ],
      "execution_count": 50,
      "outputs": [
        {
          "output_type": "stream",
          "text": [
            "/usr/local/lib/python3.6/dist-packages/ipykernel_launcher.py:4: SettingWithCopyWarning: \n",
            "A value is trying to be set on a copy of a slice from a DataFrame.\n",
            "Try using .loc[row_indexer,col_indexer] = value instead\n",
            "\n",
            "See the caveats in the documentation: http://pandas.pydata.org/pandas-docs/stable/user_guide/indexing.html#returning-a-view-versus-a-copy\n",
            "  after removing the cwd from sys.path.\n"
          ],
          "name": "stderr"
        }
      ]
    },
    {
      "cell_type": "code",
      "metadata": {
        "id": "Ewlo6AwIF3cf",
        "colab_type": "code",
        "colab": {
          "base_uri": "https://localhost:8080/",
          "height": 555
        },
        "outputId": "dfd91a29-b450-425f-8770-e42428cf0a02"
      },
      "source": [
        "_df"
      ],
      "execution_count": 51,
      "outputs": [
        {
          "output_type": "execute_result",
          "data": {
            "text/html": [
              "<div>\n",
              "<style scoped>\n",
              "    .dataframe tbody tr th:only-of-type {\n",
              "        vertical-align: middle;\n",
              "    }\n",
              "\n",
              "    .dataframe tbody tr th {\n",
              "        vertical-align: top;\n",
              "    }\n",
              "\n",
              "    .dataframe thead th {\n",
              "        text-align: right;\n",
              "    }\n",
              "</style>\n",
              "<table border=\"1\" class=\"dataframe\">\n",
              "  <thead>\n",
              "    <tr style=\"text-align: right;\">\n",
              "      <th></th>\n",
              "      <th>iden</th>\n",
              "      <th>text</th>\n",
              "      <th>token</th>\n",
              "      <th>POS</th>\n",
              "      <th>POS_ID</th>\n",
              "    </tr>\n",
              "  </thead>\n",
              "  <tbody>\n",
              "    <tr>\n",
              "      <th>0</th>\n",
              "      <td>&lt;question id=1&gt;</td>\n",
              "      <td>《机械设计基础》这本书的作者是谁？</td>\n",
              "      <td>[《, 机械, 设计, 基础, 》, 这, 本, 书, 的, 作者, 是, 谁, ？]</td>\n",
              "      <td>[PU, NN, NN, NN, PU, DT, M, NN, DEG, NN, VC, P...</td>\n",
              "      <td>[0, 1, 1, 1, 0, 0, 0, 1, 0, 1, 0, 0, 0]</td>\n",
              "    </tr>\n",
              "    <tr>\n",
              "      <th>1</th>\n",
              "      <td>&lt;answer id=1&gt;</td>\n",
              "      <td>杨可桢，程光蕴，李仲生</td>\n",
              "      <td>[杨可桢, ，, 程光蕴, ，, 李仲生]</td>\n",
              "      <td>[NR, PU, NR, PU, NR]</td>\n",
              "      <td>[0, 0, 0, 0, 0]</td>\n",
              "    </tr>\n",
              "    <tr>\n",
              "      <th>2</th>\n",
              "      <td>==============================================...</td>\n",
              "      <td>NaN</td>\n",
              "      <td>[nan]</td>\n",
              "      <td>[NN]</td>\n",
              "      <td>[1]</td>\n",
              "    </tr>\n",
              "    <tr>\n",
              "      <th>3</th>\n",
              "      <td>&lt;question id=2&gt;</td>\n",
              "      <td>《高等数学》是哪个出版社出版的？</td>\n",
              "      <td>[《, 高等, 数学, 》, 是, 哪个, 出版社, 出版, 的, ？]</td>\n",
              "      <td>[PU, JJ, NN, PU, VC, DT, NN, VV, DEC, PU]</td>\n",
              "      <td>[0, 0, 1, 0, 0, 0, 1, 0, 0, 0]</td>\n",
              "    </tr>\n",
              "    <tr>\n",
              "      <th>4</th>\n",
              "      <td>&lt;answer id=2&gt;</td>\n",
              "      <td>武汉大学出版社</td>\n",
              "      <td>[武汉, 大学, 出版社]</td>\n",
              "      <td>[NR, NN, NN]</td>\n",
              "      <td>[0, 1, 1]</td>\n",
              "    </tr>\n",
              "    <tr>\n",
              "      <th>...</th>\n",
              "      <td>...</td>\n",
              "      <td>...</td>\n",
              "      <td>...</td>\n",
              "      <td>...</td>\n",
              "      <td>...</td>\n",
              "    </tr>\n",
              "    <tr>\n",
              "      <th>95</th>\n",
              "      <td>==============================================...</td>\n",
              "      <td>NaN</td>\n",
              "      <td>[nan]</td>\n",
              "      <td>[NN]</td>\n",
              "      <td>[1]</td>\n",
              "    </tr>\n",
              "    <tr>\n",
              "      <th>96</th>\n",
              "      <td>&lt;question id=33&gt;</td>\n",
              "      <td>东创建国主要做什么生意</td>\n",
              "      <td>[东创, 建国, 主要, 做, 什么, 生意]</td>\n",
              "      <td>[NR, NN, AD, VV, DT, NN]</td>\n",
              "      <td>[0, 1, 0, 0, 0, 1]</td>\n",
              "    </tr>\n",
              "    <tr>\n",
              "      <th>97</th>\n",
              "      <td>&lt;answer id=33&gt;</td>\n",
              "      <td>整车销售、售后服务、配件供应</td>\n",
              "      <td>[整车, 销售, 、, 售后服务, 、, 配件, 供应]</td>\n",
              "      <td>[NN, NN, PU, NN, PU, NN, NN]</td>\n",
              "      <td>[1, 1, 0, 1, 0, 1, 1]</td>\n",
              "    </tr>\n",
              "    <tr>\n",
              "      <th>98</th>\n",
              "      <td>==============================================...</td>\n",
              "      <td>NaN</td>\n",
              "      <td>[nan]</td>\n",
              "      <td>[NN]</td>\n",
              "      <td>[1]</td>\n",
              "    </tr>\n",
              "    <tr>\n",
              "      <th>99</th>\n",
              "      <td>&lt;question id=34&gt;</td>\n",
              "      <td>茴香中文学名叫什么</td>\n",
              "      <td>[茴香, 中文学, 名叫, 什么]</td>\n",
              "      <td>[NN, NN, VV, PN]</td>\n",
              "      <td>[1, 1, 0, 0]</td>\n",
              "    </tr>\n",
              "  </tbody>\n",
              "</table>\n",
              "<p>100 rows × 5 columns</p>\n",
              "</div>"
            ],
            "text/plain": [
              "                                                 iden  ...                                   POS_ID\n",
              "0                                     <question id=1>  ...  [0, 1, 1, 1, 0, 0, 0, 1, 0, 1, 0, 0, 0]\n",
              "1                                       <answer id=1>  ...                          [0, 0, 0, 0, 0]\n",
              "2   ==============================================...  ...                                      [1]\n",
              "3                                     <question id=2>  ...           [0, 0, 1, 0, 0, 0, 1, 0, 0, 0]\n",
              "4                                       <answer id=2>  ...                                [0, 1, 1]\n",
              "..                                                ...  ...                                      ...\n",
              "95  ==============================================...  ...                                      [1]\n",
              "96                                   <question id=33>  ...                       [0, 1, 0, 0, 0, 1]\n",
              "97                                     <answer id=33>  ...                    [1, 1, 0, 1, 0, 1, 1]\n",
              "98  ==============================================...  ...                                      [1]\n",
              "99                                   <question id=34>  ...                             [1, 1, 0, 0]\n",
              "\n",
              "[100 rows x 5 columns]"
            ]
          },
          "metadata": {
            "tags": []
          },
          "execution_count": 51
        }
      ]
    },
    {
      "cell_type": "code",
      "metadata": {
        "id": "sBjBahL9F3Z6",
        "colab_type": "code",
        "colab": {}
      },
      "source": [
        ""
      ],
      "execution_count": 0,
      "outputs": []
    },
    {
      "cell_type": "code",
      "metadata": {
        "id": "2QRxzMdUF3XY",
        "colab_type": "code",
        "colab": {}
      },
      "source": [
        ""
      ],
      "execution_count": 0,
      "outputs": []
    },
    {
      "cell_type": "code",
      "metadata": {
        "id": "0myvrHhmF3U1",
        "colab_type": "code",
        "colab": {}
      },
      "source": [
        ""
      ],
      "execution_count": 0,
      "outputs": []
    },
    {
      "cell_type": "code",
      "metadata": {
        "id": "lWIBILHeF3SK",
        "colab_type": "code",
        "colab": {}
      },
      "source": [
        ""
      ],
      "execution_count": 0,
      "outputs": []
    },
    {
      "cell_type": "code",
      "metadata": {
        "id": "k8O993t_F3Ba",
        "colab_type": "code",
        "colab": {}
      },
      "source": [
        ""
      ],
      "execution_count": 0,
      "outputs": []
    },
    {
      "cell_type": "code",
      "metadata": {
        "id": "fcIxsCmnDP1R",
        "colab_type": "code",
        "colab": {}
      },
      "source": [
        ""
      ],
      "execution_count": 0,
      "outputs": []
    }
  ]
}