{
  "nbformat": 4,
  "nbformat_minor": 0,
  "metadata": {
    "colab": {
      "name": "Q1.ipynb",
      "provenance": [],
      "collapsed_sections": [],
      "include_colab_link": true
    },
    "kernelspec": {
      "name": "python3",
      "display_name": "Python 3"
    },
    "accelerator": "GPU"
  },
  "cells": [
    {
      "cell_type": "markdown",
      "metadata": {
        "id": "view-in-github",
        "colab_type": "text"
      },
      "source": [
        "<a href=\"https://colab.research.google.com/github/UrienLin/NLPTest/blob/master/Q1.ipynb\" target=\"_parent\"><img src=\"https://colab.research.google.com/assets/colab-badge.svg\" alt=\"Open In Colab\"/></a>"
      ]
    },
    {
      "cell_type": "markdown",
      "metadata": {
        "id": "hqy29vz5p0UB",
        "colab_type": "text"
      },
      "source": [
        "[根據此篇文章](https://medium.com/@armandj.olivares/using-bert-for-classifying-documents-with-long-texts-5c3e7b04573d) \n",
        "所提及的 [此篇論文](https://arxiv.org/pdf/1910.10781.pdf)\n",
        "\n",
        "將長文切割成200字的子集合，最後再根據原文及預測結果投票取情緒值"
      ]
    },
    {
      "cell_type": "code",
      "metadata": {
        "id": "taCAptmFSW1E",
        "colab_type": "code",
        "outputId": "e558a41d-982f-40fd-dabf-7ce86085a04b",
        "colab": {
          "base_uri": "https://localhost:8080/",
          "height": 241
        }
      },
      "source": [
        "from google.colab import drive\n",
        "drive.mount('/content/drive')\n",
        "import pandas as  pd\n",
        "\n",
        "#Colab PATH\n",
        "#PATH = '/content/drive/My Drive/20190825 Challenge/'\n",
        "#Local PATH\n",
        "PATH = './'\n",
        "\n",
        "train_df = pd.read_csv(PATH + '01_Hoteltrain.csv')\n",
        "test_df = pd.read_csv(PATH + '01_Hoteltest.csv')\n",
        "\n",
        "_df = pd.concat([train_df,test_df])\n",
        "_df.head()"
      ],
      "execution_count": 14,
      "outputs": [
        {
          "output_type": "stream",
          "text": [
            "Drive already mounted at /content/drive; to attempt to forcibly remount, call drive.mount(\"/content/drive\", force_remount=True).\n"
          ],
          "name": "stdout"
        },
        {
          "output_type": "execute_result",
          "data": {
            "text/html": [
              "<div>\n",
              "<style scoped>\n",
              "    .dataframe tbody tr th:only-of-type {\n",
              "        vertical-align: middle;\n",
              "    }\n",
              "\n",
              "    .dataframe tbody tr th {\n",
              "        vertical-align: top;\n",
              "    }\n",
              "\n",
              "    .dataframe thead th {\n",
              "        text-align: right;\n",
              "    }\n",
              "</style>\n",
              "<table border=\"1\" class=\"dataframe\">\n",
              "  <thead>\n",
              "    <tr style=\"text-align: right;\">\n",
              "      <th></th>\n",
              "      <th>index</th>\n",
              "      <th>label</th>\n",
              "      <th>review</th>\n",
              "    </tr>\n",
              "  </thead>\n",
              "  <tbody>\n",
              "    <tr>\n",
              "      <th>0</th>\n",
              "      <td>1</td>\n",
              "      <td>0.0</td>\n",
              "      <td>來往虹橋機場,絕對方便,938公共汽車直接門對門,上車睡覺就可以了(一個半小時)賓館服務不專...</td>\n",
              "    </tr>\n",
              "    <tr>\n",
              "      <th>1</th>\n",
              "      <td>2</td>\n",
              "      <td>1.0</td>\n",
              "      <td>來武漢出差很多次了，這次經朋友介紹，住在海怡錦江大酒店。外表看來的確一般，但住進去後，感覺還...</td>\n",
              "    </tr>\n",
              "    <tr>\n",
              "      <th>2</th>\n",
              "      <td>3</td>\n",
              "      <td>0.0</td>\n",
              "      <td>來長春之前，查閱了攜程的很多酒店評分，感覺這個還算不錯的，但是入住之後感覺很失望：1、房間門...</td>\n",
              "    </tr>\n",
              "    <tr>\n",
              "      <th>3</th>\n",
              "      <td>4</td>\n",
              "      <td>1.0</td>\n",
              "      <td>來蘇州好多次了，基本上都住在這家酒店。給我的感覺非常好，房間很乾淨，設施也很全，各種用品也很...</td>\n",
              "    </tr>\n",
              "    <tr>\n",
              "      <th>4</th>\n",
              "      <td>5</td>\n",
              "      <td>1.0</td>\n",
              "      <td>依海而建，地理位置絕佳，旁邊就是星海廣場。床特別大，很舒適，房間裡有咖啡包，但有一天服務生忘...</td>\n",
              "    </tr>\n",
              "  </tbody>\n",
              "</table>\n",
              "</div>"
            ],
            "text/plain": [
              "   index  label                                             review\n",
              "0      1    0.0  來往虹橋機場,絕對方便,938公共汽車直接門對門,上車睡覺就可以了(一個半小時)賓館服務不專...\n",
              "1      2    1.0  來武漢出差很多次了，這次經朋友介紹，住在海怡錦江大酒店。外表看來的確一般，但住進去後，感覺還...\n",
              "2      3    0.0  來長春之前，查閱了攜程的很多酒店評分，感覺這個還算不錯的，但是入住之後感覺很失望：1、房間門...\n",
              "3      4    1.0  來蘇州好多次了，基本上都住在這家酒店。給我的感覺非常好，房間很乾淨，設施也很全，各種用品也很...\n",
              "4      5    1.0  依海而建，地理位置絕佳，旁邊就是星海廣場。床特別大，很舒適，房間裡有咖啡包，但有一天服務生忘..."
            ]
          },
          "metadata": {
            "tags": []
          },
          "execution_count": 14
        }
      ]
    },
    {
      "cell_type": "code",
      "metadata": {
        "colab_type": "code",
        "outputId": "8ec6fc04-2701-47fd-f9bf-d37510dce731",
        "id": "IewlVFvDy0uG",
        "colab": {
          "base_uri": "https://localhost:8080/",
          "height": 68
        }
      },
      "source": [
        "#檢查 LABEL 分布\n",
        "train_df.label.value_counts()"
      ],
      "execution_count": 15,
      "outputs": [
        {
          "output_type": "execute_result",
          "data": {
            "text/plain": [
              "1    3421\n",
              "0    1579\n",
              "Name: label, dtype: int64"
            ]
          },
          "metadata": {
            "tags": []
          },
          "execution_count": 15
        }
      ]
    },
    {
      "cell_type": "code",
      "metadata": {
        "id": "PAZrWu_2cedv",
        "colab_type": "code",
        "outputId": "f1e31487-cf2c-4d3b-c73c-44f937ef907f",
        "colab": {
          "base_uri": "https://localhost:8080/",
          "height": 282
        }
      },
      "source": [
        "#檢查字串長短分佈\n",
        "_df[_df.review.str.len()>200].review.str.len().map(lambda x: (int(x/10)) * 10).value_counts().sort_index().plot()"
      ],
      "execution_count": 16,
      "outputs": [
        {
          "output_type": "execute_result",
          "data": {
            "text/plain": [
              "<matplotlib.axes._subplots.AxesSubplot at 0x7fb87b64a8d0>"
            ]
          },
          "metadata": {
            "tags": []
          },
          "execution_count": 16
        },
        {
          "output_type": "display_data",
          "data": {
            "image/png": "[encoded data removed]",
            "text/plain": [
              "<Figure size 432x288 with 1 Axes>"
            ]
          },
          "metadata": {
            "tags": []
          }
        }
      ]
    },
    {
      "cell_type": "code",
      "metadata": {
        "id": "FwdCvFlhnnCD",
        "colab_type": "code",
        "colab": {}
      },
      "source": [
        "#切割成200 overlap 50 的子集合\n",
        "def get_split(text1):\n",
        "  text_total_len = 200 #default:200\n",
        "  text_overlap = 50 #default:50\n",
        "  text_len = text_total_len - text_overlap\n",
        "  \n",
        "  l_total = []\n",
        "  l_parcial = []\n",
        "  if len(list(text1))//text_len >0:\n",
        "    n = len(list(text1))//text_len\n",
        "  else: \n",
        "    n = 1\n",
        "  for w in range(n):\n",
        "    if w == 0:\n",
        "      l_parcial = list(text1)[:text_total_len]\n",
        "      l_total.append(\"\".join(l_parcial))\n",
        "    else:\n",
        "      l_parcial = list(text1)[w*text_len:w*text_len + text_total_len]\n",
        "      l_total.append(\"\".join(l_parcial))\n",
        "  return l_total"
      ],
      "execution_count": 0,
      "outputs": []
    },
    {
      "cell_type": "code",
      "metadata": {
        "id": "l6hWXs-ju4V7",
        "colab_type": "code",
        "colab": {}
      },
      "source": [
        "#長字串切割為200,overlap = 50 \n",
        "#[0~199, 150~349, 300~499, ...]\n",
        "_df['review_split'] = _df.review.apply(get_split)"
      ],
      "execution_count": 0,
      "outputs": []
    },
    {
      "cell_type": "code",
      "metadata": {
        "id": "mseOcb51wF_-",
        "colab_type": "code",
        "outputId": "3bfbce28-9e53-4a75-adb6-8dfe4666217a",
        "colab": {
          "base_uri": "https://localhost:8080/",
          "height": 34
        }
      },
      "source": [
        "train_l = []\n",
        "label_l = []\n",
        "index_l = []\n",
        "for idx,row in _df.iterrows():\n",
        "  for rs in row['review_split']:\n",
        "    train_l.append(rs)\n",
        "    label_l.append(row['label'])\n",
        "    index_l.append(idx)\n",
        "\n",
        "len(train_l),len(label_l),len(index_l)"
      ],
      "execution_count": 19,
      "outputs": [
        {
          "output_type": "execute_result",
          "data": {
            "text/plain": [
              "(8995, 8995, 8995)"
            ]
          },
          "metadata": {
            "tags": []
          },
          "execution_count": 19
        }
      ]
    },
    {
      "cell_type": "code",
      "metadata": {
        "id": "rXzOch8ywtsn",
        "colab_type": "code",
        "outputId": "614b3a4d-65e3-4918-da49-d2d6956a26a3",
        "colab": {
          "base_uri": "https://localhost:8080/",
          "height": 204
        }
      },
      "source": [
        "#重組回來\n",
        "new_df_with_idx = pd.DataFrame({'text':train_l, 'label':label_l, 'idx':index_l})\n",
        "new_df = pd.DataFrame({'text':train_l, 'label':label_l ,'idx':index_l})\n",
        "new_df.head()"
      ],
      "execution_count": 20,
      "outputs": [
        {
          "output_type": "execute_result",
          "data": {
            "text/html": [
              "<div>\n",
              "<style scoped>\n",
              "    .dataframe tbody tr th:only-of-type {\n",
              "        vertical-align: middle;\n",
              "    }\n",
              "\n",
              "    .dataframe tbody tr th {\n",
              "        vertical-align: top;\n",
              "    }\n",
              "\n",
              "    .dataframe thead th {\n",
              "        text-align: right;\n",
              "    }\n",
              "</style>\n",
              "<table border=\"1\" class=\"dataframe\">\n",
              "  <thead>\n",
              "    <tr style=\"text-align: right;\">\n",
              "      <th></th>\n",
              "      <th>text</th>\n",
              "      <th>label</th>\n",
              "      <th>idx</th>\n",
              "    </tr>\n",
              "  </thead>\n",
              "  <tbody>\n",
              "    <tr>\n",
              "      <th>0</th>\n",
              "      <td>來往虹橋機場,絕對方便,938公共汽車直接門對門,上車睡覺就可以了(一個半小時)賓館服務不專...</td>\n",
              "      <td>0.0</td>\n",
              "      <td>0</td>\n",
              "    </tr>\n",
              "    <tr>\n",
              "      <th>1</th>\n",
              "      <td>來武漢出差很多次了，這次經朋友介紹，住在海怡錦江大酒店。外表看來的確一般，但住進去後，感覺還...</td>\n",
              "      <td>1.0</td>\n",
              "      <td>1</td>\n",
              "    </tr>\n",
              "    <tr>\n",
              "      <th>2</th>\n",
              "      <td>過的酒店最快的，且不收費，這是讓我最滿意的。樓下有位朋友說，衛生間太小，其實只是淋浴間不是太...</td>\n",
              "      <td>1.0</td>\n",
              "      <td>1</td>\n",
              "    </tr>\n",
              "    <tr>\n",
              "      <th>3</th>\n",
              "      <td>來長春之前，查閱了攜程的很多酒店評分，感覺這個還算不錯的，但是入住之後感覺很失望：1、房間門...</td>\n",
              "      <td>0.0</td>\n",
              "      <td>2</td>\n",
              "    </tr>\n",
              "    <tr>\n",
              "      <th>4</th>\n",
              "      <td>來蘇州好多次了，基本上都住在這家酒店。給我的感覺非常好，房間很乾淨，設施也很全，各種用品也很...</td>\n",
              "      <td>1.0</td>\n",
              "      <td>3</td>\n",
              "    </tr>\n",
              "  </tbody>\n",
              "</table>\n",
              "</div>"
            ],
            "text/plain": [
              "                                                text  label  idx\n",
              "0  來往虹橋機場,絕對方便,938公共汽車直接門對門,上車睡覺就可以了(一個半小時)賓館服務不專...    0.0    0\n",
              "1  來武漢出差很多次了，這次經朋友介紹，住在海怡錦江大酒店。外表看來的確一般，但住進去後，感覺還...    1.0    1\n",
              "2  過的酒店最快的，且不收費，這是讓我最滿意的。樓下有位朋友說，衛生間太小，其實只是淋浴間不是太...    1.0    1\n",
              "3  來長春之前，查閱了攜程的很多酒店評分，感覺這個還算不錯的，但是入住之後感覺很失望：1、房間門...    0.0    2\n",
              "4  來蘇州好多次了，基本上都住在這家酒店。給我的感覺非常好，房間很乾淨，設施也很全，各種用品也很...    1.0    3"
            ]
          },
          "metadata": {
            "tags": []
          },
          "execution_count": 20
        }
      ]
    },
    {
      "cell_type": "code",
      "metadata": {
        "id": "XBxe2mlhJ76g",
        "colab_type": "code",
        "colab": {}
      },
      "source": [
        "dev_0225_q1 = new_df[new_df.label!=0.5].sample(1000)\n",
        "train_raw = pd.concat([new_df,dev_0225_q1]).drop_duplicates(keep=False)\n",
        "test_0225_q1 = train_raw[train_raw.label == 0.5]\n",
        "train_0225_q1 = pd.concat([test_0225_q1,train_raw]).drop_duplicates(keep=False)\n",
        "\n",
        "dev_0225_q1.to_csv(PATH + 'dev_0225_q1.tsv', index=False, sep='\\t', encoding='utf-8')\n",
        "train_0225_q1.to_csv(PATH +'train_0225_q1.tsv', index=False, sep='\\t', encoding='utf-8')\n",
        "test_0225_q1.to_csv(PATH + 'test_0225_q1.tsv', index=False, sep='\\t', encoding='utf-8')"
      ],
      "execution_count": 0,
      "outputs": []
    },
    {
      "cell_type": "code",
      "metadata": {
        "id": "a-ZeuJVvuA77",
        "colab_type": "code",
        "colab": {}
      },
      "source": [
        "!pip install transformers -q\n",
        "!pip install pysnooper -q\n",
        "import pysnooper\n",
        "import torch\n",
        "from transformers import BertTokenizer,BertForSequenceClassification\n",
        "from IPython.display import clear_output\n",
        "\n",
        "PRETRAINED_MODEL_NAME = \"bert-base-chinese\"  # 指定繁簡中文 BERT-BASE 預訓練模型\n",
        "tokenizer = BertTokenizer.from_pretrained(PRETRAINED_MODEL_NAME)\n",
        "\n",
        "from torch.utils.data import Dataset\n",
        "    \n",
        "class NewsDataset(Dataset):\n",
        "    def __init__(self, mode, tokenizer):\n",
        "        assert mode in [\"train_0225_q1\", \"test_0225_q1\",\"dev_0225_q1\"]\n",
        "        self.mode = mode\n",
        "        self.df = pd.read_csv(mode + \".tsv\", sep=\"\\t\").fillna(\"\")\n",
        "        self.len = len(self.df)\n",
        "        self.tokenizer = tokenizer  \n",
        "    \n",
        "    def __getitem__(self, idx):\n",
        "        if self.mode == \"test_0225_q1\":\n",
        "            text = self.df.iloc[idx].text\n",
        "            label_tensor = None\n",
        "        else:\n",
        "            text, label = self.df.iloc[idx ,:2].values\n",
        "            label_tensor = torch.tensor(label,dtype=torch.long)\n",
        "            \n",
        "        #[CLS] Sentence Token\n",
        "        word_pieces = [\"[CLS]\"]\n",
        "        tokens = self.tokenizer.tokenize(text)\n",
        "        word_pieces += tokens\n",
        "        \n",
        "        len_a = len(word_pieces)\n",
        "        ids = self.tokenizer.convert_tokens_to_ids(word_pieces)\n",
        "        tokens_tensor = torch.tensor(ids)\n",
        "        segments_tensor = torch.tensor([0] * len_a ,dtype=torch.long)\n",
        "\n",
        "        return (tokens_tensor, segments_tensor, label_tensor)\n",
        "    \n",
        "    def __len__(self):\n",
        "        return self.len\n",
        "    \n",
        "trainset = NewsDataset(\"train_0225_q1\", tokenizer=tokenizer)\n",
        "# 初始化一個專門讀取訓練樣本的 Dataset，使用中文 BERT 斷詞\n"
      ],
      "execution_count": 0,
      "outputs": []
    },
    {
      "cell_type": "code",
      "metadata": {
        "id": "Zly-8LSBxRtR",
        "colab_type": "code",
        "colab": {}
      },
      "source": [
        "\n",
        "from torch.utils.data import DataLoader\n",
        "from torch.nn.utils.rnn import pad_sequence\n",
        "\n",
        "def create_mini_batch(samples):\n",
        "    tokens_tensors = [s[0] for s in samples]\n",
        "    segments_tensors = [s[1] for s in samples]\n",
        "    \n",
        "    if samples[0][2] is not None:\n",
        "        label_ids = torch.stack([s[2] for s in samples])\n",
        "    else:\n",
        "        label_ids = None\n",
        "    \n",
        "    tokens_tensors = pad_sequence(tokens_tensors, \n",
        "                                  batch_first=True)\n",
        "    segments_tensors = pad_sequence(segments_tensors, \n",
        "                                    batch_first=True)\n",
        "    \n",
        "    masks_tensors = torch.zeros(tokens_tensors.shape, \n",
        "                                dtype=torch.long)\n",
        "    masks_tensors = masks_tensors.masked_fill(\n",
        "        tokens_tensors != 0, 1)\n",
        "    \n",
        "    return tokens_tensors, segments_tensors, masks_tensors, label_ids\n",
        "\n",
        "BATCH_SIZE = 32\n",
        "trainloader = DataLoader(trainset, batch_size=BATCH_SIZE, \n",
        "                         collate_fn=create_mini_batch)"
      ],
      "execution_count": 0,
      "outputs": []
    },
    {
      "cell_type": "code",
      "metadata": {
        "id": "0zSq5vmSEoMm",
        "colab_type": "code",
        "outputId": "05ef4dea-4c86-47a5-dc91-0145635e0dc9",
        "colab": {
          "base_uri": "https://localhost:8080/",
          "height": 153
        }
      },
      "source": [
        "NUM_LABELS = 2\n",
        "\n",
        "model = BertForSequenceClassification.from_pretrained(\n",
        "    PRETRAINED_MODEL_NAME, num_labels=NUM_LABELS)\n",
        "\n",
        "clear_output()\n",
        "\n",
        "print(\"\"\"\n",
        "name            module\n",
        "----------------------\"\"\")\n",
        "for name, module in model.named_children():\n",
        "    if name == \"bert\":\n",
        "        for n, _ in module.named_children():\n",
        "            print(f\"{name}:{n}\")\n",
        "    else:\n",
        "        print(\"{:15} {}\".format(name, module))"
      ],
      "execution_count": 35,
      "outputs": [
        {
          "output_type": "stream",
          "text": [
            "\n",
            "name            module\n",
            "----------------------\n",
            "bert:embeddings\n",
            "bert:encoder\n",
            "bert:pooler\n",
            "dropout         Dropout(p=0.1, inplace=False)\n",
            "classifier      Linear(in_features=768, out_features=2, bias=True)\n"
          ],
          "name": "stdout"
        }
      ]
    },
    {
      "cell_type": "code",
      "metadata": {
        "id": "rsRoiXCK1nXz",
        "colab_type": "code",
        "colab": {}
      },
      "source": [
        "def get_predictions(model, dataloader, compute_acc=False):\n",
        "    predictions = None\n",
        "    correct = 0\n",
        "    total = 0\n",
        "      \n",
        "    with torch.no_grad():\n",
        "        for data in dataloader:\n",
        "            if next(model.parameters()).is_cuda:\n",
        "                data = [t.to(\"cuda:0\") for t in data if t is not None]\n",
        "            \n",
        "            tokens_tensors, segments_tensors, masks_tensors = data[:3]\n",
        "            outputs = model(input_ids=tokens_tensors, \n",
        "                            token_type_ids=segments_tensors, \n",
        "                            attention_mask=masks_tensors)\n",
        "            \n",
        "            logits = outputs[0]\n",
        "            _, pred = torch.max(logits.data, 1)\n",
        "            \n",
        "            if compute_acc:\n",
        "                labels = data[3]\n",
        "                total += labels.size(0)\n",
        "                correct += (pred == labels).sum().item()\n",
        "                \n",
        "            if predictions is None:\n",
        "                predictions = pred\n",
        "            else:\n",
        "                predictions = torch.cat((predictions, pred))\n",
        "    \n",
        "    if compute_acc:\n",
        "        acc = correct / total\n",
        "        return predictions, acc\n",
        "    return predictions"
      ],
      "execution_count": 0,
      "outputs": []
    },
    {
      "cell_type": "code",
      "metadata": {
        "id": "5uUK8bHDHciy",
        "colab_type": "code",
        "outputId": "97677ef3-ddb7-477f-ed4a-36a22831cbe8",
        "colab": {
          "base_uri": "https://localhost:8080/",
          "height": 221
        }
      },
      "source": [
        "%%time\n",
        "\n",
        "device = torch.device(\"cuda:0\" if torch.cuda.is_available() else \"cpu\")\n",
        "print(\"device:\", device)\n",
        "model = model.to(device)\n",
        "\n",
        "\n",
        "\n",
        "\n",
        "model.train()\n",
        "\n",
        "optimizer = torch.optim.Adam(model.parameters(), lr=1e-5)\n",
        "\n",
        "EPOCHS = 9  \n",
        "for epoch in range(EPOCHS):\n",
        "    \n",
        "    running_loss = 0.0\n",
        "    for data in trainloader:\n",
        "        \n",
        "        tokens_tensors, segments_tensors, \\\n",
        "        masks_tensors, labels = [t.to(device) for t in data]\n",
        "\n",
        "        optimizer.zero_grad()\n",
        "        \n",
        "        outputs = model(input_ids=tokens_tensors, \n",
        "                        token_type_ids=segments_tensors, \n",
        "                        attention_mask=masks_tensors, \n",
        "                        labels=labels)\n",
        "\n",
        "        loss = outputs[0]\n",
        "        loss.backward()\n",
        "        optimizer.step()\n",
        "\n",
        "        running_loss += loss.item()\n",
        "        \n",
        "    _, acc = get_predictions(model, trainloader, compute_acc=True)\n",
        "\n",
        "    print('[epoch %d] loss: %.3f, acc: %.3f' %\n",
        "          (epoch + 1, running_loss, acc))\n",
        "    "
      ],
      "execution_count": 37,
      "outputs": [
        {
          "output_type": "stream",
          "text": [
            "device: cuda:0\n",
            "[epoch 1] loss: 50.196, acc: 0.910\n",
            "[epoch 2] loss: 32.903, acc: 0.919\n",
            "[epoch 3] loss: 25.981, acc: 0.924\n",
            "[epoch 4] loss: 20.429, acc: 0.957\n",
            "[epoch 5] loss: 14.230, acc: 0.952\n",
            "[epoch 6] loss: 10.781, acc: 0.947\n",
            "[epoch 7] loss: 7.620, acc: 0.981\n",
            "[epoch 8] loss: 6.940, acc: 0.984\n",
            "[epoch 9] loss: 4.528, acc: 0.985\n",
            "CPU times: user 19min 49s, sys: 14min 40s, total: 34min 29s\n",
            "Wall time: 34min 36s\n"
          ],
          "name": "stdout"
        }
      ]
    },
    {
      "cell_type": "code",
      "metadata": {
        "id": "ef8j5_q3Hi6f",
        "colab_type": "code",
        "outputId": "2a178e05-100e-43af-f439-79611d52c9b4",
        "colab": {
          "base_uri": "https://localhost:8080/",
          "height": 204
        }
      },
      "source": [
        "devset = NewsDataset(\"dev_0225_q1\", tokenizer=tokenizer)\n",
        "devloader = DataLoader(devset, batch_size=64, \n",
        "                        collate_fn=create_mini_batch)\n",
        "dev_predictions = get_predictions(model, devloader)\n",
        "dev_df = pd.DataFrame({\"predicted\": dev_predictions.tolist()})\n",
        "dev_df1 = pd.concat([devset.df, dev_df.loc[:, 'predicted']], axis=1)\n",
        "dev_df1.head()"
      ],
      "execution_count": 38,
      "outputs": [
        {
          "output_type": "execute_result",
          "data": {
            "text/html": [
              "<div>\n",
              "<style scoped>\n",
              "    .dataframe tbody tr th:only-of-type {\n",
              "        vertical-align: middle;\n",
              "    }\n",
              "\n",
              "    .dataframe tbody tr th {\n",
              "        vertical-align: top;\n",
              "    }\n",
              "\n",
              "    .dataframe thead th {\n",
              "        text-align: right;\n",
              "    }\n",
              "</style>\n",
              "<table border=\"1\" class=\"dataframe\">\n",
              "  <thead>\n",
              "    <tr style=\"text-align: right;\">\n",
              "      <th></th>\n",
              "      <th>text</th>\n",
              "      <th>label</th>\n",
              "      <th>idx</th>\n",
              "      <th>predicted</th>\n",
              "    </tr>\n",
              "  </thead>\n",
              "  <tbody>\n",
              "    <tr>\n",
              "      <th>0</th>\n",
              "      <td>酒店可能有點年限了所以設施很舊,說是三星可感覺估計也就二星到頂了,服務也很一般,關鍵是價格和...</td>\n",
              "      <td>1.0</td>\n",
              "      <td>2000</td>\n",
              "      <td>0</td>\n",
              "    </tr>\n",
              "    <tr>\n",
              "      <th>1</th>\n",
              "      <td>酒店離徽杭高速出口很近，很容易找到的，離黃山市中心也不遠的</td>\n",
              "      <td>1.0</td>\n",
              "      <td>2868</td>\n",
              "      <td>1</td>\n",
              "    </tr>\n",
              "    <tr>\n",
              "      <th>2</th>\n",
              "      <td>這是我住過酒店最糟糕的一次，首先是入住房間弄錯了，和別人的房間重複了，接著是晚上睡覺半夜2點...</td>\n",
              "      <td>0.0</td>\n",
              "      <td>3303</td>\n",
              "      <td>0</td>\n",
              "    </tr>\n",
              "    <tr>\n",
              "      <th>3</th>\n",
              "      <td>拿房時沒大床房了，給我們免費升成套房，這點還蠻滿意的。酒店大致不錯，有國內五星水準。比國際品...</td>\n",
              "      <td>1.0</td>\n",
              "      <td>1800</td>\n",
              "      <td>1</td>\n",
              "    </tr>\n",
              "    <tr>\n",
              "      <th>4</th>\n",
              "      <td>總體服務不錯，高級房裝修還可以，隔音太差，空調聲音吵。但總體尚可</td>\n",
              "      <td>1.0</td>\n",
              "      <td>4713</td>\n",
              "      <td>1</td>\n",
              "    </tr>\n",
              "  </tbody>\n",
              "</table>\n",
              "</div>"
            ],
            "text/plain": [
              "                                                text  label   idx  predicted\n",
              "0  酒店可能有點年限了所以設施很舊,說是三星可感覺估計也就二星到頂了,服務也很一般,關鍵是價格和...    1.0  2000          0\n",
              "1                      酒店離徽杭高速出口很近，很容易找到的，離黃山市中心也不遠的    1.0  2868          1\n",
              "2  這是我住過酒店最糟糕的一次，首先是入住房間弄錯了，和別人的房間重複了，接著是晚上睡覺半夜2點...    0.0  3303          0\n",
              "3  拿房時沒大床房了，給我們免費升成套房，這點還蠻滿意的。酒店大致不錯，有國內五星水準。比國際品...    1.0  1800          1\n",
              "4                   總體服務不錯，高級房裝修還可以，隔音太差，空調聲音吵。但總體尚可    1.0  4713          1"
            ]
          },
          "metadata": {
            "tags": []
          },
          "execution_count": 38
        }
      ]
    },
    {
      "cell_type": "code",
      "metadata": {
        "id": "JIghOHJqiWg6",
        "colab_type": "code",
        "outputId": "44495d48-82c6-4402-d1be-6e31c67f837f",
        "colab": {
          "base_uri": "https://localhost:8080/",
          "height": 204
        }
      },
      "source": [
        "dev_df1[dev_df1.label != dev_df1.predicted].head()"
      ],
      "execution_count": 39,
      "outputs": [
        {
          "output_type": "execute_result",
          "data": {
            "text/html": [
              "<div>\n",
              "<style scoped>\n",
              "    .dataframe tbody tr th:only-of-type {\n",
              "        vertical-align: middle;\n",
              "    }\n",
              "\n",
              "    .dataframe tbody tr th {\n",
              "        vertical-align: top;\n",
              "    }\n",
              "\n",
              "    .dataframe thead th {\n",
              "        text-align: right;\n",
              "    }\n",
              "</style>\n",
              "<table border=\"1\" class=\"dataframe\">\n",
              "  <thead>\n",
              "    <tr style=\"text-align: right;\">\n",
              "      <th></th>\n",
              "      <th>text</th>\n",
              "      <th>label</th>\n",
              "      <th>idx</th>\n",
              "      <th>predicted</th>\n",
              "    </tr>\n",
              "  </thead>\n",
              "  <tbody>\n",
              "    <tr>\n",
              "      <th>0</th>\n",
              "      <td>酒店可能有點年限了所以設施很舊,說是三星可感覺估計也就二星到頂了,服務也很一般,關鍵是價格和...</td>\n",
              "      <td>1.0</td>\n",
              "      <td>2000</td>\n",
              "      <td>0</td>\n",
              "    </tr>\n",
              "    <tr>\n",
              "      <th>15</th>\n",
              "      <td>，我的朋友沒去成，我在下午4點半取消了一個房間和2個早餐，但是結帳時卻收我2份早餐錢。我已經...</td>\n",
              "      <td>0.0</td>\n",
              "      <td>1305</td>\n",
              "      <td>1</td>\n",
              "    </tr>\n",
              "    <tr>\n",
              "      <th>23</th>\n",
              "      <td>設施不是一般的差，就是一個招待所。我的毛巾掛在衛生間，等要用的時候，竟然發現上面爬了臭蟲。只...</td>\n",
              "      <td>0.0</td>\n",
              "      <td>3148</td>\n",
              "      <td>1</td>\n",
              "    </tr>\n",
              "    <tr>\n",
              "      <th>42</th>\n",
              "      <td>酒店員工的禮儀意識十分差！！堂堂一家准五星的前臺工作人員，當著顧客的面大摳鼻屎，真是讓人十分...</td>\n",
              "      <td>1.0</td>\n",
              "      <td>2573</td>\n",
              "      <td>0</td>\n",
              "    </tr>\n",
              "    <tr>\n",
              "      <th>44</th>\n",
              "      <td>還是房價貴了點，如果房價在200就可以了。</td>\n",
              "      <td>0.0</td>\n",
              "      <td>4854</td>\n",
              "      <td>1</td>\n",
              "    </tr>\n",
              "  </tbody>\n",
              "</table>\n",
              "</div>"
            ],
            "text/plain": [
              "                                                 text  label   idx  predicted\n",
              "0   酒店可能有點年限了所以設施很舊,說是三星可感覺估計也就二星到頂了,服務也很一般,關鍵是價格和...    1.0  2000          0\n",
              "15  ，我的朋友沒去成，我在下午4點半取消了一個房間和2個早餐，但是結帳時卻收我2份早餐錢。我已經...    0.0  1305          1\n",
              "23  設施不是一般的差，就是一個招待所。我的毛巾掛在衛生間，等要用的時候，竟然發現上面爬了臭蟲。只...    0.0  3148          1\n",
              "42  酒店員工的禮儀意識十分差！！堂堂一家准五星的前臺工作人員，當著顧客的面大摳鼻屎，真是讓人十分...    1.0  2573          0\n",
              "44                              還是房價貴了點，如果房價在200就可以了。    0.0  4854          1"
            ]
          },
          "metadata": {
            "tags": []
          },
          "execution_count": 39
        }
      ]
    },
    {
      "cell_type": "code",
      "metadata": {
        "id": "J0WtFJpyeP7x",
        "colab_type": "code",
        "colab": {}
      },
      "source": [
        "#torch.save(model, PATH + 'model02251557.pt')  # 保存整个网络\n",
        "#torch.save(model.state_dict(), PATH + 'model02251557.pt')   # 只保存网络中的参数 (速度快, 占内存少)"
      ],
      "execution_count": 0,
      "outputs": []
    },
    {
      "cell_type": "code",
      "metadata": {
        "id": "9wFyDcmqe-j9",
        "colab_type": "code",
        "outputId": "d4939008-2772-45fa-db61-87d33a730f76",
        "colab": {
          "base_uri": "https://localhost:8080/",
          "height": 204
        }
      },
      "source": [
        "testset = NewsDataset(\"test_0225_q1\", tokenizer=tokenizer)\n",
        "testloader = DataLoader(testset, batch_size=64, \n",
        "                       collate_fn=create_mini_batch)\n",
        "predictions = get_predictions(model, testloader)\n",
        "df = pd.DataFrame({\"predicted\": predictions.tolist()})\n",
        "df1 = pd.concat([testset.df, df.loc[:, 'predicted']], axis=1)\n",
        "df1.head()"
      ],
      "execution_count": 40,
      "outputs": [
        {
          "output_type": "execute_result",
          "data": {
            "text/html": [
              "<div>\n",
              "<style scoped>\n",
              "    .dataframe tbody tr th:only-of-type {\n",
              "        vertical-align: middle;\n",
              "    }\n",
              "\n",
              "    .dataframe tbody tr th {\n",
              "        vertical-align: top;\n",
              "    }\n",
              "\n",
              "    .dataframe thead th {\n",
              "        text-align: right;\n",
              "    }\n",
              "</style>\n",
              "<table border=\"1\" class=\"dataframe\">\n",
              "  <thead>\n",
              "    <tr style=\"text-align: right;\">\n",
              "      <th></th>\n",
              "      <th>text</th>\n",
              "      <th>label</th>\n",
              "      <th>idx</th>\n",
              "      <th>predicted</th>\n",
              "    </tr>\n",
              "  </thead>\n",
              "  <tbody>\n",
              "    <tr>\n",
              "      <th>0</th>\n",
              "      <td>\"此期間預訂，入住首日酒店贈送每間房10元洗衣券一張，通過攜程預訂，入住首日每房還可獲贈歡迎...</td>\n",
              "      <td>0.5</td>\n",
              "      <td>0</td>\n",
              "      <td>1</td>\n",
              "    </tr>\n",
              "    <tr>\n",
              "      <th>1</th>\n",
              "      <td>&amp;#35828;&amp;#23454;&amp;#35805;，&amp;#23545;景&amp;#21306;酒店的硬...</td>\n",
              "      <td>0.5</td>\n",
              "      <td>1</td>\n",
              "      <td>1</td>\n",
              "    </tr>\n",
              "    <tr>\n",
              "      <th>2</th>\n",
              "      <td>38169;的（可能是期望低的&amp;#32536;故吧）。酒店硬體普通，但&amp;#29615;境超好...</td>\n",
              "      <td>0.5</td>\n",
              "      <td>1</td>\n",
              "      <td>1</td>\n",
              "    </tr>\n",
              "    <tr>\n",
              "      <th>3</th>\n",
              "      <td>推。唯一提出表&amp;#25196;的是酒店&amp;#33829;&amp;#38144;部&amp;#38376;的相...</td>\n",
              "      <td>0.5</td>\n",
              "      <td>1</td>\n",
              "      <td>1</td>\n",
              "    </tr>\n",
              "    <tr>\n",
              "      <th>4</th>\n",
              "      <td>，&amp;#35828;是全部&amp;#39044;&amp;#35746;光了，我靠！！！怎麼能不&amp;#3247...</td>\n",
              "      <td>0.5</td>\n",
              "      <td>1</td>\n",
              "      <td>1</td>\n",
              "    </tr>\n",
              "  </tbody>\n",
              "</table>\n",
              "</div>"
            ],
            "text/plain": [
              "                                                text  label  idx  predicted\n",
              "0  \"此期間預訂，入住首日酒店贈送每間房10元洗衣券一張，通過攜程預訂，入住首日每房還可獲贈歡迎...    0.5    0          1\n",
              "1  &#35828;&#23454;&#35805;，&#23545;景&#21306;酒店的硬...    0.5    1          1\n",
              "2  38169;的（可能是期望低的&#32536;故吧）。酒店硬體普通，但&#29615;境超好...    0.5    1          1\n",
              "3  推。唯一提出表&#25196;的是酒店&#33829;&#38144;部&#38376;的相...    0.5    1          1\n",
              "4  ，&#35828;是全部&#39044;&#35746;光了，我靠！！！怎麼能不&#3247...    0.5    1          1"
            ]
          },
          "metadata": {
            "tags": []
          },
          "execution_count": 40
        }
      ]
    },
    {
      "cell_type": "code",
      "metadata": {
        "id": "fMLxLaI8kPOx",
        "colab_type": "code",
        "outputId": "b628edee-00b5-4d9b-84c2-137169bf58b9",
        "colab": {
          "base_uri": "https://localhost:8080/",
          "height": 68
        }
      },
      "source": [
        "df1.predicted.value_counts()"
      ],
      "execution_count": 41,
      "outputs": [
        {
          "output_type": "execute_result",
          "data": {
            "text/plain": [
              "1    2345\n",
              "0    1042\n",
              "Name: predicted, dtype: int64"
            ]
          },
          "metadata": {
            "tags": []
          },
          "execution_count": 41
        }
      ]
    },
    {
      "cell_type": "code",
      "metadata": {
        "id": "Ie8rj_c0k3KF",
        "colab_type": "code",
        "outputId": "7d3238f3-bd19-4c98-d3c1-e0f1090b7116",
        "colab": {
          "base_uri": "https://localhost:8080/",
          "height": 391
        }
      },
      "source": [
        "df1.groupby(['idx']).agg({'predicted':'mean'}).reset_index().predicted.value_counts().sort_index()"
      ],
      "execution_count": 42,
      "outputs": [
        {
          "output_type": "execute_result",
          "data": {
            "text/plain": [
              "0.000000     713\n",
              "0.125000       1\n",
              "0.142857       3\n",
              "0.166667       2\n",
              "0.200000       1\n",
              "0.210526       1\n",
              "0.230769       1\n",
              "0.250000       2\n",
              "0.285714       1\n",
              "0.333333      16\n",
              "0.400000       2\n",
              "0.428571       1\n",
              "0.444444       1\n",
              "0.500000      36\n",
              "0.600000       3\n",
              "0.666667      15\n",
              "0.750000       8\n",
              "0.800000       3\n",
              "0.833333       1\n",
              "0.857143       1\n",
              "1.000000    1953\n",
              "Name: predicted, dtype: int64"
            ]
          },
          "metadata": {
            "tags": []
          },
          "execution_count": 42
        }
      ]
    },
    {
      "cell_type": "code",
      "metadata": {
        "id": "ROBHShydmYG1",
        "colab_type": "code",
        "outputId": "adb298fc-092b-4be1-a033-8f50870c37e2",
        "colab": {
          "base_uri": "https://localhost:8080/",
          "height": 419
        }
      },
      "source": [
        "ans = df1.groupby(['idx']).agg({'predicted':'mean'}).reset_index()\n",
        "ans"
      ],
      "execution_count": 0,
      "outputs": [
        {
          "output_type": "execute_result",
          "data": {
            "text/html": [
              "<div>\n",
              "<style scoped>\n",
              "    .dataframe tbody tr th:only-of-type {\n",
              "        vertical-align: middle;\n",
              "    }\n",
              "\n",
              "    .dataframe tbody tr th {\n",
              "        vertical-align: top;\n",
              "    }\n",
              "\n",
              "    .dataframe thead th {\n",
              "        text-align: right;\n",
              "    }\n",
              "</style>\n",
              "<table border=\"1\" class=\"dataframe\">\n",
              "  <thead>\n",
              "    <tr style=\"text-align: right;\">\n",
              "      <th></th>\n",
              "      <th>idx</th>\n",
              "      <th>predicted</th>\n",
              "    </tr>\n",
              "  </thead>\n",
              "  <tbody>\n",
              "    <tr>\n",
              "      <th>0</th>\n",
              "      <td>0</td>\n",
              "      <td>0.000000</td>\n",
              "    </tr>\n",
              "    <tr>\n",
              "      <th>1</th>\n",
              "      <td>1</td>\n",
              "      <td>0.571429</td>\n",
              "    </tr>\n",
              "    <tr>\n",
              "      <th>2</th>\n",
              "      <td>2</td>\n",
              "      <td>1.000000</td>\n",
              "    </tr>\n",
              "    <tr>\n",
              "      <th>3</th>\n",
              "      <td>3</td>\n",
              "      <td>0.000000</td>\n",
              "    </tr>\n",
              "    <tr>\n",
              "      <th>4</th>\n",
              "      <td>4</td>\n",
              "      <td>1.000000</td>\n",
              "    </tr>\n",
              "    <tr>\n",
              "      <th>...</th>\n",
              "      <td>...</td>\n",
              "      <td>...</td>\n",
              "    </tr>\n",
              "    <tr>\n",
              "      <th>2760</th>\n",
              "      <td>2760</td>\n",
              "      <td>1.000000</td>\n",
              "    </tr>\n",
              "    <tr>\n",
              "      <th>2761</th>\n",
              "      <td>2761</td>\n",
              "      <td>0.000000</td>\n",
              "    </tr>\n",
              "    <tr>\n",
              "      <th>2762</th>\n",
              "      <td>2762</td>\n",
              "      <td>1.000000</td>\n",
              "    </tr>\n",
              "    <tr>\n",
              "      <th>2763</th>\n",
              "      <td>2763</td>\n",
              "      <td>1.000000</td>\n",
              "    </tr>\n",
              "    <tr>\n",
              "      <th>2764</th>\n",
              "      <td>2764</td>\n",
              "      <td>0.000000</td>\n",
              "    </tr>\n",
              "  </tbody>\n",
              "</table>\n",
              "<p>2765 rows × 2 columns</p>\n",
              "</div>"
            ],
            "text/plain": [
              "       idx  predicted\n",
              "0        0   0.000000\n",
              "1        1   0.571429\n",
              "2        2   1.000000\n",
              "3        3   0.000000\n",
              "4        4   1.000000\n",
              "...    ...        ...\n",
              "2760  2760   1.000000\n",
              "2761  2761   0.000000\n",
              "2762  2762   1.000000\n",
              "2763  2763   1.000000\n",
              "2764  2764   0.000000\n",
              "\n",
              "[2765 rows x 2 columns]"
            ]
          },
          "metadata": {
            "tags": []
          },
          "execution_count": 30
        }
      ]
    },
    {
      "cell_type": "code",
      "metadata": {
        "id": "UbRJV8j8pY-q",
        "colab_type": "code",
        "colab": {}
      },
      "source": [
        "ans.predicted = ans.predicted.apply(lambda x: 1 if x>0.4 else 0 )\n",
        "ans.predicted.value_counts().sort_index()"
      ],
      "execution_count": 0,
      "outputs": []
    },
    {
      "cell_type": "code",
      "metadata": {
        "id": "zIcFCZ4Ophvn",
        "colab_type": "code",
        "colab": {}
      },
      "source": [
        "#ans.to_csv('/content/drive/My Drive/predicted0225final.csv',index=False)"
      ],
      "execution_count": 0,
      "outputs": []
    },
    {
      "cell_type": "code",
      "metadata": {
        "id": "4qSqj3BjqV6f",
        "colab_type": "code",
        "outputId": "31b37d1b-a78d-4028-89e0-e059f1216da5",
        "colab": {
          "base_uri": "https://localhost:8080/",
          "height": 419
        }
      },
      "source": [
        "ans"
      ],
      "execution_count": 0,
      "outputs": [
        {
          "output_type": "execute_result",
          "data": {
            "text/html": [
              "<div>\n",
              "<style scoped>\n",
              "    .dataframe tbody tr th:only-of-type {\n",
              "        vertical-align: middle;\n",
              "    }\n",
              "\n",
              "    .dataframe tbody tr th {\n",
              "        vertical-align: top;\n",
              "    }\n",
              "\n",
              "    .dataframe thead th {\n",
              "        text-align: right;\n",
              "    }\n",
              "</style>\n",
              "<table border=\"1\" class=\"dataframe\">\n",
              "  <thead>\n",
              "    <tr style=\"text-align: right;\">\n",
              "      <th></th>\n",
              "      <th>idx</th>\n",
              "      <th>predicted</th>\n",
              "    </tr>\n",
              "  </thead>\n",
              "  <tbody>\n",
              "    <tr>\n",
              "      <th>0</th>\n",
              "      <td>0</td>\n",
              "      <td>0</td>\n",
              "    </tr>\n",
              "    <tr>\n",
              "      <th>1</th>\n",
              "      <td>1</td>\n",
              "      <td>1</td>\n",
              "    </tr>\n",
              "    <tr>\n",
              "      <th>2</th>\n",
              "      <td>2</td>\n",
              "      <td>1</td>\n",
              "    </tr>\n",
              "    <tr>\n",
              "      <th>3</th>\n",
              "      <td>3</td>\n",
              "      <td>0</td>\n",
              "    </tr>\n",
              "    <tr>\n",
              "      <th>4</th>\n",
              "      <td>4</td>\n",
              "      <td>1</td>\n",
              "    </tr>\n",
              "    <tr>\n",
              "      <th>...</th>\n",
              "      <td>...</td>\n",
              "      <td>...</td>\n",
              "    </tr>\n",
              "    <tr>\n",
              "      <th>2760</th>\n",
              "      <td>2760</td>\n",
              "      <td>1</td>\n",
              "    </tr>\n",
              "    <tr>\n",
              "      <th>2761</th>\n",
              "      <td>2761</td>\n",
              "      <td>0</td>\n",
              "    </tr>\n",
              "    <tr>\n",
              "      <th>2762</th>\n",
              "      <td>2762</td>\n",
              "      <td>1</td>\n",
              "    </tr>\n",
              "    <tr>\n",
              "      <th>2763</th>\n",
              "      <td>2763</td>\n",
              "      <td>1</td>\n",
              "    </tr>\n",
              "    <tr>\n",
              "      <th>2764</th>\n",
              "      <td>2764</td>\n",
              "      <td>0</td>\n",
              "    </tr>\n",
              "  </tbody>\n",
              "</table>\n",
              "<p>2765 rows × 2 columns</p>\n",
              "</div>"
            ],
            "text/plain": [
              "       idx  predicted\n",
              "0        0          0\n",
              "1        1          1\n",
              "2        2          1\n",
              "3        3          0\n",
              "4        4          1\n",
              "...    ...        ...\n",
              "2760  2760          1\n",
              "2761  2761          0\n",
              "2762  2762          1\n",
              "2763  2763          1\n",
              "2764  2764          0\n",
              "\n",
              "[2765 rows x 2 columns]"
            ]
          },
          "metadata": {
            "tags": []
          },
          "execution_count": 35
        }
      ]
    },
    {
      "cell_type": "code",
      "metadata": {
        "id": "Ff-9dRm9YERb",
        "colab_type": "code",
        "colab": {}
      },
      "source": [
        ""
      ],
      "execution_count": 0,
      "outputs": []
    }
  ]
}